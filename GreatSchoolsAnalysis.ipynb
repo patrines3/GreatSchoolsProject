{
 "cells": [
  {
   "attachments": {},
   "cell_type": "markdown",
   "metadata": {},
   "source": [
    "<h1><center>FINDING GOOD SCHOOLS</center></h1> \n",
    "\n",
    "The objective of the analysis is to find possible schools for our daughter. We've determined potential relocation areas, since we are renting at the time, and scraped data from GreatSchools.org which is a website that contains information about school ratings, test scores, and school size, among others.\n",
    "\n",
    "First, we will explore, clean, and format the data. We'll try to discover patterns or relationships between the features of the schools. \n",
    "\n",
    "After that, we will focus on finding the best schools based on the criteria we determined to be relevant for our case.\n"
   ]
  },
  {
   "attachments": {},
   "cell_type": "markdown",
   "metadata": {},
   "source": [
    "## SETUP"
   ]
  },
  {
   "cell_type": "code",
   "execution_count": 2,
   "metadata": {},
   "outputs": [],
   "source": [
    "# Import libraries\n",
    "import matplotlib.pyplot as plt\n",
    "import seaborn as sns\n",
    "import pandas as pd\n",
    "import numpy as np\n",
    "import scipy\n",
    "\n",
    "from scipy.stats import norm\n",
    "from geopy.geocoders import Nominatim\n",
    "import geopy.distance\n",
    "import folium \n",
    "from folium.plugins import MarkerCluster\n",
    "from branca.element import Figure # To set the size of the map\n",
    "from sklearn.linear_model import LogisticRegression\n",
    "\n"
   ]
  },
  {
   "cell_type": "code",
   "execution_count": 4,
   "metadata": {},
   "outputs": [],
   "source": [
    "# Define functions\n",
    "def mult_plot(ax, title):\n",
    "    ax.set_xlabel('', fontsize=9)\n",
    "    ax.set_ylabel('', fontsize=9)\n",
    "    ax.set_title(title, fontsize=12)\n",
    "    ax.bar_label(container=ax.containers[0], fontsize=6, padding=1)\n",
    "    #ax.set_yticks([0,100,200,300])\n",
    "    #ax.set_ylim(0,300)\n",
    "    #ax.set_xticklabels(schools_df['school_rating'].unique(), rotation=45, horizontalalignment='right')\n",
    "\n",
    "def get_levels(dataf):\n",
    "    pre_k_df = dataf.loc[dataf['pre_k_school'] == True]\n",
    "    elementary_df = dataf.loc[dataf['elementary_school'] == True]\n",
    "    middle_df = dataf.loc[dataf['middle_school'] == True]\n",
    "    high_df = dataf.loc[dataf['high_school'] == True]\n",
    "\n",
    "    return pre_k_df, elementary_df, middle_df, high_df"
   ]
  },
  {
   "attachments": {},
   "cell_type": "markdown",
   "metadata": {},
   "source": [
    "## LOADING DATA"
   ]
  },
  {
   "cell_type": "code",
   "execution_count": 7,
   "metadata": {},
   "outputs": [],
   "source": [
    "# Load scraped data\n",
    "cities = ['Lakewood',\n",
    "          'Cerritos',\n",
    "          'LongBeach',\n",
    "          'Bellflower',\n",
    "          'Norwalk',\n",
    "          'Downey',\n",
    "          'Whittier',\n",
    "          'LosAlamitos',\n",
    "          'Cypress',\n",
    "          'SantaFeSprings']\n",
    "\n",
    "schools_df = pd.DataFrame()\n",
    "schools_per_city_df = pd.DataFrame()\n",
    "for city in cities:\n",
    "    schools_per_city_df = pd.read_csv('data/schoolsOf' + city + '.csv')\n",
    "    # Add city column\n",
    "    schools_per_city_df.insert(loc=1,column='city', value=city, allow_duplicates=True)\n",
    "    schools_df = pd.concat([schools_df, schools_per_city_df], ignore_index=True)\n",
    "\n",
    "demographics_df = pd.DataFrame()\n",
    "for city in cities:\n",
    "    demographics_df = pd.concat([demographics_df,pd.read_csv('data/DemoInfoOf' + city + '.csv')], ignore_index=True)   \n",
    "\n",
    "test_scores_df = pd.DataFrame()\n",
    "for city in cities:\n",
    "    test_scores_df = pd.concat([test_scores_df,pd.read_csv('data/TestScoresOf' + city + '.csv')], ignore_index=True)  \n",
    "    \n",
    "schools_df.drop(columns='Unnamed: 0', inplace=True)\n",
    "demographics_df.drop(columns='Unnamed: 0', inplace=True)\n",
    "test_scores_df.drop(columns='Unnamed: 0', inplace=True)\n",
    "\n",
    "# Rename feature school rating to school_rating to match the format of the other features\n",
    "schools_df.rename(columns={'school rating':'school_rating'}, inplace=True)"
   ]
  },
  {
   "attachments": {},
   "cell_type": "markdown",
   "metadata": {},
   "source": [
    "## DATASET OVERVIEW\n",
    "\n",
    "Getting to know the data"
   ]
  },
  {
   "cell_type": "code",
   "execution_count": 8,
   "metadata": {},
   "outputs": [
    {
     "data": {
      "text/html": [
       "<div>\n",
       "<style scoped>\n",
       "    .dataframe tbody tr th:only-of-type {\n",
       "        vertical-align: middle;\n",
       "    }\n",
       "\n",
       "    .dataframe tbody tr th {\n",
       "        vertical-align: top;\n",
       "    }\n",
       "\n",
       "    .dataframe thead th {\n",
       "        text-align: right;\n",
       "    }\n",
       "</style>\n",
       "<table border=\"1\" class=\"dataframe\">\n",
       "  <thead>\n",
       "    <tr style=\"text-align: right;\">\n",
       "      <th></th>\n",
       "      <th>city</th>\n",
       "      <th>school_name</th>\n",
       "      <th>school_rating</th>\n",
       "      <th>school_address</th>\n",
       "      <th>school_url</th>\n",
       "      <th>school_type</th>\n",
       "      <th>school_grades</th>\n",
       "      <th>school_total_students</th>\n",
       "      <th>school_teacher_ratio</th>\n",
       "      <th>school_district</th>\n",
       "    </tr>\n",
       "  </thead>\n",
       "  <tbody>\n",
       "    <tr>\n",
       "      <th>0</th>\n",
       "      <td>Lakewood</td>\n",
       "      <td>Cleveland Elementary School</td>\n",
       "      <td>9\\n/10</td>\n",
       "      <td>4760 Hackett Avenue, Lakewood, CA, 90713</td>\n",
       "      <td>https://www.greatschools.org/california/lakewo...</td>\n",
       "      <td>Public district</td>\n",
       "      <td>K-5</td>\n",
       "      <td>469.0</td>\n",
       "      <td>21:1</td>\n",
       "      <td>Long Beach Unified School District</td>\n",
       "    </tr>\n",
       "    <tr>\n",
       "      <th>1</th>\n",
       "      <td>Lakewood</td>\n",
       "      <td>Odyssey Stem Academy</td>\n",
       "      <td>8\\n/10</td>\n",
       "      <td>3701 Michelson Street, Lakewood, CA, 90712</td>\n",
       "      <td>https://www.greatschools.org/california/lakewo...</td>\n",
       "      <td>Public district</td>\n",
       "      <td>9-12</td>\n",
       "      <td>136.0</td>\n",
       "      <td>NaN</td>\n",
       "      <td>Paramount Unified School District</td>\n",
       "    </tr>\n",
       "    <tr>\n",
       "      <th>2</th>\n",
       "      <td>Lakewood</td>\n",
       "      <td>Stephen Foster Elementary School</td>\n",
       "      <td>7\\n/10</td>\n",
       "      <td>5223 Bigelow Street, Lakewood, CA, 90712</td>\n",
       "      <td>https://www.greatschools.org/california/lakewo...</td>\n",
       "      <td>Public district</td>\n",
       "      <td>K-6</td>\n",
       "      <td>688.0</td>\n",
       "      <td>30:1</td>\n",
       "      <td>Bellflower Unified School District</td>\n",
       "    </tr>\n",
       "    <tr>\n",
       "      <th>3</th>\n",
       "      <td>Lakewood</td>\n",
       "      <td>Gompers K-8</td>\n",
       "      <td>7\\n/10</td>\n",
       "      <td>5206 Briercrest Avenue, Lakewood, CA, 90713</td>\n",
       "      <td>https://www.greatschools.org/california/lakewo...</td>\n",
       "      <td>Public district</td>\n",
       "      <td>K-8</td>\n",
       "      <td>700.0</td>\n",
       "      <td>24:1</td>\n",
       "      <td>Long Beach Unified School District</td>\n",
       "    </tr>\n",
       "    <tr>\n",
       "      <th>4</th>\n",
       "      <td>Lakewood</td>\n",
       "      <td>Holmes Elementary School</td>\n",
       "      <td>7\\n/10</td>\n",
       "      <td>5020 Barlin Avenue, Lakewood, CA, 90712</td>\n",
       "      <td>https://www.greatschools.org/california/lakewo...</td>\n",
       "      <td>Public district</td>\n",
       "      <td>K-5</td>\n",
       "      <td>383.0</td>\n",
       "      <td>20:1</td>\n",
       "      <td>Long Beach Unified School District</td>\n",
       "    </tr>\n",
       "  </tbody>\n",
       "</table>\n",
       "</div>"
      ],
      "text/plain": [
       "       city                       school_name school_rating  \\\n",
       "0  Lakewood       Cleveland Elementary School        9\\n/10   \n",
       "1  Lakewood              Odyssey Stem Academy        8\\n/10   \n",
       "2  Lakewood  Stephen Foster Elementary School        7\\n/10   \n",
       "3  Lakewood                       Gompers K-8        7\\n/10   \n",
       "4  Lakewood          Holmes Elementary School        7\\n/10   \n",
       "\n",
       "                                school_address  \\\n",
       "0     4760 Hackett Avenue, Lakewood, CA, 90713   \n",
       "1   3701 Michelson Street, Lakewood, CA, 90712   \n",
       "2     5223 Bigelow Street, Lakewood, CA, 90712   \n",
       "3  5206 Briercrest Avenue, Lakewood, CA, 90713   \n",
       "4      5020 Barlin Avenue, Lakewood, CA, 90712   \n",
       "\n",
       "                                          school_url      school_type  \\\n",
       "0  https://www.greatschools.org/california/lakewo...  Public district   \n",
       "1  https://www.greatschools.org/california/lakewo...  Public district   \n",
       "2  https://www.greatschools.org/california/lakewo...  Public district   \n",
       "3  https://www.greatschools.org/california/lakewo...  Public district   \n",
       "4  https://www.greatschools.org/california/lakewo...  Public district   \n",
       "\n",
       "  school_grades  school_total_students school_teacher_ratio  \\\n",
       "0           K-5                  469.0                 21:1   \n",
       "1          9-12                  136.0                  NaN   \n",
       "2           K-6                  688.0                 30:1   \n",
       "3           K-8                  700.0                 24:1   \n",
       "4           K-5                  383.0                 20:1   \n",
       "\n",
       "                      school_district  \n",
       "0  Long Beach Unified School District  \n",
       "1   Paramount Unified School District  \n",
       "2  Bellflower Unified School District  \n",
       "3  Long Beach Unified School District  \n",
       "4  Long Beach Unified School District  "
      ]
     },
     "execution_count": 8,
     "metadata": {},
     "output_type": "execute_result"
    }
   ],
   "source": [
    "# First look at the data\n",
    "schools_df.head()"
   ]
  },
  {
   "cell_type": "code",
   "execution_count": 9,
   "metadata": {},
   "outputs": [
    {
     "data": {
      "text/html": [
       "<div>\n",
       "<style scoped>\n",
       "    .dataframe tbody tr th:only-of-type {\n",
       "        vertical-align: middle;\n",
       "    }\n",
       "\n",
       "    .dataframe tbody tr th {\n",
       "        vertical-align: top;\n",
       "    }\n",
       "\n",
       "    .dataframe thead th {\n",
       "        text-align: right;\n",
       "    }\n",
       "</style>\n",
       "<table border=\"1\" class=\"dataframe\">\n",
       "  <thead>\n",
       "    <tr style=\"text-align: right;\">\n",
       "      <th></th>\n",
       "      <th>school_name</th>\n",
       "      <th>subject_name</th>\n",
       "      <th>subject_score</th>\n",
       "    </tr>\n",
       "  </thead>\n",
       "  <tbody>\n",
       "    <tr>\n",
       "      <th>0</th>\n",
       "      <td>Cleveland Elementary School</td>\n",
       "      <td>English</td>\n",
       "      <td>77%</td>\n",
       "    </tr>\n",
       "    <tr>\n",
       "      <th>1</th>\n",
       "      <td>Cleveland Elementary School</td>\n",
       "      <td>Math</td>\n",
       "      <td>65%</td>\n",
       "    </tr>\n",
       "    <tr>\n",
       "      <th>2</th>\n",
       "      <td>Cleveland Elementary School</td>\n",
       "      <td>Science</td>\n",
       "      <td>41%</td>\n",
       "    </tr>\n",
       "    <tr>\n",
       "      <th>3</th>\n",
       "      <td>Odyssey Stem Academy</td>\n",
       "      <td>English</td>\n",
       "      <td>77%</td>\n",
       "    </tr>\n",
       "    <tr>\n",
       "      <th>4</th>\n",
       "      <td>Odyssey Stem Academy</td>\n",
       "      <td>Math</td>\n",
       "      <td>14%</td>\n",
       "    </tr>\n",
       "  </tbody>\n",
       "</table>\n",
       "</div>"
      ],
      "text/plain": [
       "                   school_name subject_name subject_score\n",
       "0  Cleveland Elementary School     English            77%\n",
       "1  Cleveland Elementary School        Math            65%\n",
       "2  Cleveland Elementary School     Science            41%\n",
       "3         Odyssey Stem Academy     English            77%\n",
       "4         Odyssey Stem Academy        Math            14%"
      ]
     },
     "execution_count": 9,
     "metadata": {},
     "output_type": "execute_result"
    }
   ],
   "source": [
    "test_scores_df.head()"
   ]
  },
  {
   "cell_type": "code",
   "execution_count": 10,
   "metadata": {},
   "outputs": [
    {
     "data": {
      "text/html": [
       "<div>\n",
       "<style scoped>\n",
       "    .dataframe tbody tr th:only-of-type {\n",
       "        vertical-align: middle;\n",
       "    }\n",
       "\n",
       "    .dataframe tbody tr th {\n",
       "        vertical-align: top;\n",
       "    }\n",
       "\n",
       "    .dataframe thead th {\n",
       "        text-align: right;\n",
       "    }\n",
       "</style>\n",
       "<table border=\"1\" class=\"dataframe\">\n",
       "  <thead>\n",
       "    <tr style=\"text-align: right;\">\n",
       "      <th></th>\n",
       "      <th>school_name</th>\n",
       "      <th>race</th>\n",
       "      <th>race_score</th>\n",
       "    </tr>\n",
       "  </thead>\n",
       "  <tbody>\n",
       "    <tr>\n",
       "      <th>0</th>\n",
       "      <td>Cleveland Elementary School</td>\n",
       "      <td>Hispanic</td>\n",
       "      <td>41%</td>\n",
       "    </tr>\n",
       "    <tr>\n",
       "      <th>1</th>\n",
       "      <td>Cleveland Elementary School</td>\n",
       "      <td>White</td>\n",
       "      <td>34%</td>\n",
       "    </tr>\n",
       "    <tr>\n",
       "      <th>2</th>\n",
       "      <td>Cleveland Elementary School</td>\n",
       "      <td>Black</td>\n",
       "      <td>6%</td>\n",
       "    </tr>\n",
       "    <tr>\n",
       "      <th>3</th>\n",
       "      <td>Cleveland Elementary School</td>\n",
       "      <td>Two or more races</td>\n",
       "      <td>6%</td>\n",
       "    </tr>\n",
       "    <tr>\n",
       "      <th>4</th>\n",
       "      <td>Cleveland Elementary School</td>\n",
       "      <td>Filipino</td>\n",
       "      <td>5%</td>\n",
       "    </tr>\n",
       "  </tbody>\n",
       "</table>\n",
       "</div>"
      ],
      "text/plain": [
       "                   school_name                race race_score\n",
       "0  Cleveland Elementary School           Hispanic         41%\n",
       "1  Cleveland Elementary School              White         34%\n",
       "2  Cleveland Elementary School              Black          6%\n",
       "3  Cleveland Elementary School  Two or more races          6%\n",
       "4  Cleveland Elementary School           Filipino          5%"
      ]
     },
     "execution_count": 10,
     "metadata": {},
     "output_type": "execute_result"
    }
   ],
   "source": [
    "demographics_df.head()"
   ]
  },
  {
   "cell_type": "code",
   "execution_count": 11,
   "metadata": {},
   "outputs": [
    {
     "data": {
      "text/plain": [
       "Index(['city', 'school_name', 'school_rating', 'school_address', 'school_url',\n",
       "       'school_type', 'school_grades', 'school_total_students',\n",
       "       'school_teacher_ratio', 'school_district'],\n",
       "      dtype='object')"
      ]
     },
     "execution_count": 11,
     "metadata": {},
     "output_type": "execute_result"
    }
   ],
   "source": [
    "# Features of school dataset\n",
    "schools_df.columns"
   ]
  },
  {
   "cell_type": "code",
   "execution_count": 12,
   "metadata": {},
   "outputs": [
    {
     "name": "stdout",
     "output_type": "stream",
     "text": [
      "Total schools: 663\n"
     ]
    }
   ],
   "source": [
    "# How many schools will we be analyzing?\n",
    "print('Total schools:', schools_df.shape[0])"
   ]
  },
  {
   "cell_type": "code",
   "execution_count": 13,
   "metadata": {},
   "outputs": [
    {
     "name": "stdout",
     "output_type": "stream",
     "text": [
      "From 10 cities:\n",
      "Lakewood \n",
      "Cerritos \n",
      "LongBeach \n",
      "Bellflower \n",
      "Norwalk \n",
      "Downey \n",
      "Whittier \n",
      "LosAlamitos \n",
      "Cypress \n",
      "SantaFeSprings\n"
     ]
    }
   ],
   "source": [
    "# From how many cities do we have information?\n",
    "print(\"From\", len(schools_df['city'].unique()), \"cities:\")\n",
    "print(' \\n'.join(schools_df['city'].unique()))"
   ]
  },
  {
   "cell_type": "code",
   "execution_count": 16,
   "metadata": {},
   "outputs": [
    {
     "name": "stdout",
     "output_type": "stream",
     "text": [
      "From 27 school districts:\n",
      "Long Beach Unified School District\n",
      "Paramount Unified School District\n",
      "Bellflower Unified School District\n",
      "Abc Unified School District\n",
      "nan\n",
      "Intellectual Virtues Academy of Long Beach District\n",
      "Los Angeles Unified School District\n",
      "Intellectual Virtues Academy District\n",
      "Long Beach Unified Rop School District\n",
      "The Education Corps District\n",
      "Clear Passage Educational Center District\n",
      "California Advancing Pathways For Students In Los Angeles County Roc P School District\n",
      "Little Lake City Elementary School District\n",
      "Norwalk-La Mirada Unified School District\n",
      "Downey Unified School District\n",
      "Los Angeles County Office Of Education School District\n",
      "Los Angeles County Rop School District\n",
      "East Whittier City Elementary School District\n",
      "Whittier Union High School District\n",
      "Lowell Joint School District\n",
      "Whittier City Elementary School District\n",
      "Los Nietos School District\n",
      "South Whittier Elementary School District\n",
      "Tri-Cities Rop School District\n",
      "Los Alamitos Unified School District\n",
      "Anaheim Union High School District\n",
      "Cypress Elementary School District\n"
     ]
    }
   ],
   "source": [
    "# How many school districts are included?\n",
    "print('From', len(schools_df['school_district'].unique()), 'school districts:')\n",
    "print('\\n'.join(schools_df['school_district'].unique().astype('str')))"
   ]
  },
  {
   "cell_type": "code",
   "execution_count": 17,
   "metadata": {},
   "outputs": [
    {
     "name": "stdout",
     "output_type": "stream",
     "text": [
      "There are Public district, Private, Public charter schools\n"
     ]
    }
   ],
   "source": [
    "# What type of schools?\n",
    "aux = schools_df['school_type'].unique()\n",
    "print('There are', ', '.join(aux), 'schools')"
   ]
  },
  {
   "cell_type": "code",
   "execution_count": 18,
   "metadata": {},
   "outputs": [
    {
     "name": "stdout",
     "output_type": "stream",
     "text": [
      "The grades included are K-5, 9-12, K-6, K-8, 7-12, 6-8, PK-3, PK, PK-K, K-12, 7-8, Ungraded, K, PK-5, 7, PK-12, 1-12, 6-12, PK-1, K-3, PK-6, 10-12, K, 4-5, 7-8, PK-5, PK-8, PK-2, 1-4, K-2, 11-12, K-11, K-9, PK-10, K-4, 8-12, 1-11, 3-12, K-4, 6, 8-9, 11-12, 4-5, 1-5, 7-11, PK-7, 1-8, PK-4\n"
     ]
    }
   ],
   "source": [
    "# Which grades are included in the schools we are analyzing?\n",
    "aux = schools_df['school_grades'].unique()\n",
    "print('The grades included are', ', '.join(aux))\n"
   ]
  },
  {
   "cell_type": "code",
   "execution_count": 19,
   "metadata": {},
   "outputs": [
    {
     "data": {
      "text/plain": [
       "array(['9\\n/10', '8\\n/10', '7\\n/10', '6\\n/10', '5\\n/10', '4\\n/10',\n",
       "       'Unrated', '10\\n/10', '3\\n/10', '2\\n/10'], dtype=object)"
      ]
     },
     "execution_count": 19,
     "metadata": {},
     "output_type": "execute_result"
    }
   ],
   "source": [
    "# How have the schools been rated?\n",
    "schools_df['school_rating'].unique()\n"
   ]
  },
  {
   "cell_type": "code",
   "execution_count": 20,
   "metadata": {},
   "outputs": [
    {
     "data": {
      "text/plain": [
       "array(['21:1', nan, '30:1', '24:1', '20:1', '25:1', '22:1', '27:1',\n",
       "       '19:1', '23:1', '32:1', '26:1', '9:1', '29:1', '68:1', '15:1',\n",
       "       '18:1', '12:1', '34:1', '13:1', '14:1', '31:1', '28:1', '4:1',\n",
       "       '17:1', '16:1', '7:1', '6:1', '8:1', '1:1', '11:1', '64:1'],\n",
       "      dtype=object)"
      ]
     },
     "execution_count": 20,
     "metadata": {},
     "output_type": "execute_result"
    }
   ],
   "source": [
    "# What are the 'school_teacher_ratio' values?\n",
    "schools_df['school_teacher_ratio'].unique()"
   ]
  },
  {
   "cell_type": "code",
   "execution_count": 21,
   "metadata": {},
   "outputs": [
    {
     "name": "stdout",
     "output_type": "stream",
     "text": [
      "The subjects for which we have data are English , Math , Science \n"
     ]
    }
   ],
   "source": [
    "# For which subjects there is test score data?\n",
    "aux = test_scores_df['subject_name'].unique()\n",
    "print('The subjects for which we have data are', ', '.join(aux))"
   ]
  },
  {
   "cell_type": "code",
   "execution_count": 22,
   "metadata": {},
   "outputs": [
    {
     "name": "stdout",
     "output_type": "stream",
     "text": [
      "The schools for which we have test score data are 231\n"
     ]
    }
   ],
   "source": [
    "# How many schools have data about test scores?\n",
    "aux = len(test_scores_df['school_name'].unique())\n",
    "print('The schools for which we have test score data are', aux)"
   ]
  },
  {
   "attachments": {},
   "cell_type": "markdown",
   "metadata": {},
   "source": [
    "## DATA WRANGLING"
   ]
  },
  {
   "attachments": {},
   "cell_type": "markdown",
   "metadata": {},
   "source": [
    "We will analyze missing values, perform data binning, change the format of some of the features, and create others to allow further analysis of the data."
   ]
  },
  {
   "attachments": {},
   "cell_type": "markdown",
   "metadata": {},
   "source": [
    "IDENTIFY AND REMOVE DUPLICATE SCHOOLS "
   ]
  },
  {
   "cell_type": "code",
   "execution_count": 23,
   "metadata": {},
   "outputs": [
    {
     "data": {
      "text/html": [
       "<div>\n",
       "<style scoped>\n",
       "    .dataframe tbody tr th:only-of-type {\n",
       "        vertical-align: middle;\n",
       "    }\n",
       "\n",
       "    .dataframe tbody tr th {\n",
       "        vertical-align: top;\n",
       "    }\n",
       "\n",
       "    .dataframe thead th {\n",
       "        text-align: right;\n",
       "    }\n",
       "</style>\n",
       "<table border=\"1\" class=\"dataframe\">\n",
       "  <thead>\n",
       "    <tr style=\"text-align: right;\">\n",
       "      <th></th>\n",
       "      <th>city</th>\n",
       "      <th>school_name</th>\n",
       "      <th>school_rating</th>\n",
       "      <th>school_address</th>\n",
       "      <th>school_url</th>\n",
       "      <th>school_type</th>\n",
       "      <th>school_grades</th>\n",
       "      <th>school_total_students</th>\n",
       "      <th>school_teacher_ratio</th>\n",
       "      <th>school_district</th>\n",
       "    </tr>\n",
       "  </thead>\n",
       "  <tbody>\n",
       "    <tr>\n",
       "      <th>634</th>\n",
       "      <td>Cypress</td>\n",
       "      <td>Aslan Academy</td>\n",
       "      <td>Unrated</td>\n",
       "      <td>9080 Bloomfield Avenue, Cypress, CA, 90630</td>\n",
       "      <td>https://www.greatschools.org/california/cypres...</td>\n",
       "      <td>Private</td>\n",
       "      <td>1-12</td>\n",
       "      <td>NaN</td>\n",
       "      <td>NaN</td>\n",
       "      <td>NaN</td>\n",
       "    </tr>\n",
       "    <tr>\n",
       "      <th>622</th>\n",
       "      <td>Cypress</td>\n",
       "      <td>Aslan Academy</td>\n",
       "      <td>Unrated</td>\n",
       "      <td>9734 Paseo De Oro, Cypress, CA, 90630</td>\n",
       "      <td>https://www.greatschools.org/california/cypres...</td>\n",
       "      <td>Private</td>\n",
       "      <td>1-12</td>\n",
       "      <td>NaN</td>\n",
       "      <td>NaN</td>\n",
       "      <td>NaN</td>\n",
       "    </tr>\n",
       "    <tr>\n",
       "      <th>441</th>\n",
       "      <td>Downey</td>\n",
       "      <td>Creative Beginnings</td>\n",
       "      <td>Unrated</td>\n",
       "      <td>10910 Paramont Blvd, Downey, CA, 90241</td>\n",
       "      <td>https://www.greatschools.org/california/downey...</td>\n",
       "      <td>Private</td>\n",
       "      <td>K-5</td>\n",
       "      <td>NaN</td>\n",
       "      <td>NaN</td>\n",
       "      <td>NaN</td>\n",
       "    </tr>\n",
       "    <tr>\n",
       "      <th>227</th>\n",
       "      <td>LongBeach</td>\n",
       "      <td>Creative Beginnings</td>\n",
       "      <td>Unrated</td>\n",
       "      <td>5600 Linden Avenue, Long Beach, CA, 90805</td>\n",
       "      <td>https://www.greatschools.org/california/long-b...</td>\n",
       "      <td>Private</td>\n",
       "      <td>PK</td>\n",
       "      <td>NaN</td>\n",
       "      <td>NaN</td>\n",
       "      <td>NaN</td>\n",
       "    </tr>\n",
       "    <tr>\n",
       "      <th>426</th>\n",
       "      <td>Downey</td>\n",
       "      <td>Creative Beginnings</td>\n",
       "      <td>Unrated</td>\n",
       "      <td>8033 3rd Street, Downey, CA, 90241</td>\n",
       "      <td>https://www.greatschools.org/california/downey...</td>\n",
       "      <td>Private</td>\n",
       "      <td>K-6</td>\n",
       "      <td>124.0</td>\n",
       "      <td>NaN</td>\n",
       "      <td>NaN</td>\n",
       "    </tr>\n",
       "    <tr>\n",
       "      <th>459</th>\n",
       "      <td>Downey</td>\n",
       "      <td>Downey Christian School</td>\n",
       "      <td>Unrated</td>\n",
       "      <td>8219 Florence Avenue, Downey, CA, 90240</td>\n",
       "      <td>https://www.greatschools.org/california/downey...</td>\n",
       "      <td>Private</td>\n",
       "      <td>PK-8</td>\n",
       "      <td>177.0</td>\n",
       "      <td>NaN</td>\n",
       "      <td>NaN</td>\n",
       "    </tr>\n",
       "    <tr>\n",
       "      <th>435</th>\n",
       "      <td>Downey</td>\n",
       "      <td>Downey Christian School</td>\n",
       "      <td>Unrated</td>\n",
       "      <td>10335 Paramount Boulevard, Downey, CA, 90241</td>\n",
       "      <td>https://www.greatschools.org/california/downey...</td>\n",
       "      <td>Private</td>\n",
       "      <td>K-8</td>\n",
       "      <td>80.0</td>\n",
       "      <td>NaN</td>\n",
       "      <td>NaN</td>\n",
       "    </tr>\n",
       "    <tr>\n",
       "      <th>55</th>\n",
       "      <td>Cerritos</td>\n",
       "      <td>Fecc Children Academy</td>\n",
       "      <td>Unrated</td>\n",
       "      <td>11330 E 166th St, Cerritos, CA, 90703</td>\n",
       "      <td>https://www.greatschools.org/california/cerrit...</td>\n",
       "      <td>Private</td>\n",
       "      <td>PK-K</td>\n",
       "      <td>15.0</td>\n",
       "      <td>NaN</td>\n",
       "      <td>NaN</td>\n",
       "    </tr>\n",
       "    <tr>\n",
       "      <th>68</th>\n",
       "      <td>Cerritos</td>\n",
       "      <td>Fecc Children Academy</td>\n",
       "      <td>Unrated</td>\n",
       "      <td>11330 166th Street, Cerritos, CA, 90703</td>\n",
       "      <td>https://www.greatschools.org/california/cerrit...</td>\n",
       "      <td>Private</td>\n",
       "      <td>PK-K</td>\n",
       "      <td>NaN</td>\n",
       "      <td>NaN</td>\n",
       "      <td>NaN</td>\n",
       "    </tr>\n",
       "    <tr>\n",
       "      <th>297</th>\n",
       "      <td>LongBeach</td>\n",
       "      <td>Huntington Academy</td>\n",
       "      <td>Unrated</td>\n",
       "      <td>1423 Walnut Avenue, Long Beach, CA, 90813</td>\n",
       "      <td>https://www.greatschools.org/california/long-b...</td>\n",
       "      <td>Private</td>\n",
       "      <td>PK-5</td>\n",
       "      <td>47.0</td>\n",
       "      <td>NaN</td>\n",
       "      <td>NaN</td>\n",
       "    </tr>\n",
       "    <tr>\n",
       "      <th>316</th>\n",
       "      <td>LongBeach</td>\n",
       "      <td>Huntington Academy</td>\n",
       "      <td>Unrated</td>\n",
       "      <td>1423 Walnut Avenue, Long Beach, CA, 90813</td>\n",
       "      <td>https://www.greatschools.org/california/long-b...</td>\n",
       "      <td>Private</td>\n",
       "      <td>K-4</td>\n",
       "      <td>20.0</td>\n",
       "      <td>NaN</td>\n",
       "      <td>NaN</td>\n",
       "    </tr>\n",
       "    <tr>\n",
       "      <th>467</th>\n",
       "      <td>Downey</td>\n",
       "      <td>Kirkwood Christian Schools</td>\n",
       "      <td>Unrated</td>\n",
       "      <td>11115 Pangborn Avenue, Downey, CA, 90241</td>\n",
       "      <td>https://www.greatschools.org/california/downey...</td>\n",
       "      <td>Private</td>\n",
       "      <td>K-5</td>\n",
       "      <td>126.0</td>\n",
       "      <td>NaN</td>\n",
       "      <td>NaN</td>\n",
       "    </tr>\n",
       "    <tr>\n",
       "      <th>460</th>\n",
       "      <td>Downey</td>\n",
       "      <td>Kirkwood Christian Schools</td>\n",
       "      <td>Unrated</td>\n",
       "      <td>11115 Pangborn Avenue, Downey, CA, 90241</td>\n",
       "      <td>https://www.greatschools.org/california/downey...</td>\n",
       "      <td>Private</td>\n",
       "      <td>PK-5</td>\n",
       "      <td>214.0</td>\n",
       "      <td>NaN</td>\n",
       "      <td>NaN</td>\n",
       "    </tr>\n",
       "    <tr>\n",
       "      <th>458</th>\n",
       "      <td>Downey</td>\n",
       "      <td>Kirkwood Christian Schools</td>\n",
       "      <td>Unrated</td>\n",
       "      <td>11115 Pangborn Avenue, Downey, CA, 90241</td>\n",
       "      <td>https://www.greatschools.org/california/downey...</td>\n",
       "      <td>Private</td>\n",
       "      <td>K-5</td>\n",
       "      <td>118.0</td>\n",
       "      <td>NaN</td>\n",
       "      <td>NaN</td>\n",
       "    </tr>\n",
       "    <tr>\n",
       "      <th>396</th>\n",
       "      <td>Norwalk</td>\n",
       "      <td>Liberty Baptist Academy</td>\n",
       "      <td>Unrated</td>\n",
       "      <td>12029 Pine Street, Norwalk, CA, 90650</td>\n",
       "      <td>https://www.greatschools.org/california/norwal...</td>\n",
       "      <td>Private</td>\n",
       "      <td>1-11</td>\n",
       "      <td>8.0</td>\n",
       "      <td>NaN</td>\n",
       "      <td>NaN</td>\n",
       "    </tr>\n",
       "    <tr>\n",
       "      <th>393</th>\n",
       "      <td>Norwalk</td>\n",
       "      <td>Liberty Baptist Academy</td>\n",
       "      <td>Unrated</td>\n",
       "      <td>12029 Pine Street, Norwalk, CA, 90650</td>\n",
       "      <td>https://www.greatschools.org/california/norwal...</td>\n",
       "      <td>Private</td>\n",
       "      <td>K-12</td>\n",
       "      <td>9.0</td>\n",
       "      <td>NaN</td>\n",
       "      <td>NaN</td>\n",
       "    </tr>\n",
       "    <tr>\n",
       "      <th>93</th>\n",
       "      <td>LongBeach</td>\n",
       "      <td>Longfellow Elementary School</td>\n",
       "      <td>7\\n/10</td>\n",
       "      <td>3800 Olive Avenue, Long Beach, CA, 90807</td>\n",
       "      <td>https://www.greatschools.org/california/long-b...</td>\n",
       "      <td>Public district</td>\n",
       "      <td>K-5</td>\n",
       "      <td>990.0</td>\n",
       "      <td>27:1</td>\n",
       "      <td>Long Beach Unified School District</td>\n",
       "    </tr>\n",
       "    <tr>\n",
       "      <th>496</th>\n",
       "      <td>Whittier</td>\n",
       "      <td>Longfellow Elementary School</td>\n",
       "      <td>5\\n/10</td>\n",
       "      <td>6005 Magnolia Avenue, Whittier, CA, 90601</td>\n",
       "      <td>https://www.greatschools.org/california/whitti...</td>\n",
       "      <td>Public district</td>\n",
       "      <td>K-5</td>\n",
       "      <td>561.0</td>\n",
       "      <td>23:1</td>\n",
       "      <td>Whittier City Elementary School District</td>\n",
       "    </tr>\n",
       "    <tr>\n",
       "      <th>428</th>\n",
       "      <td>Downey</td>\n",
       "      <td>Maria Montessori House of Children School</td>\n",
       "      <td>Unrated</td>\n",
       "      <td>12067 Paramount, Downey, CA, 90242</td>\n",
       "      <td>https://www.greatschools.org/california/downey...</td>\n",
       "      <td>Private</td>\n",
       "      <td>1-5</td>\n",
       "      <td>NaN</td>\n",
       "      <td>NaN</td>\n",
       "      <td>NaN</td>\n",
       "    </tr>\n",
       "    <tr>\n",
       "      <th>445</th>\n",
       "      <td>Downey</td>\n",
       "      <td>Maria Montessori House of Children School</td>\n",
       "      <td>Unrated</td>\n",
       "      <td>9036 Imperial Highway, Downey, CA, 90242</td>\n",
       "      <td>https://www.greatschools.org/california/downey...</td>\n",
       "      <td>Private</td>\n",
       "      <td>K-4</td>\n",
       "      <td>16.0</td>\n",
       "      <td>NaN</td>\n",
       "      <td>NaN</td>\n",
       "    </tr>\n",
       "    <tr>\n",
       "      <th>292</th>\n",
       "      <td>LongBeach</td>\n",
       "      <td>Montessori School Eureka</td>\n",
       "      <td>Unrated</td>\n",
       "      <td>5306 East Arbor Road, Long Beach, CA, 90808</td>\n",
       "      <td>https://www.greatschools.org/california/long-b...</td>\n",
       "      <td>Private</td>\n",
       "      <td>PK-K</td>\n",
       "      <td>33.0</td>\n",
       "      <td>NaN</td>\n",
       "      <td>NaN</td>\n",
       "    </tr>\n",
       "    <tr>\n",
       "      <th>179</th>\n",
       "      <td>LongBeach</td>\n",
       "      <td>Montessori School Eureka</td>\n",
       "      <td>Unrated</td>\n",
       "      <td>5306 East Arbor Road, Long Beach, CA, 90808</td>\n",
       "      <td>https://www.greatschools.org/california/long-b...</td>\n",
       "      <td>Private</td>\n",
       "      <td>PK-2</td>\n",
       "      <td>NaN</td>\n",
       "      <td>NaN</td>\n",
       "      <td>NaN</td>\n",
       "    </tr>\n",
       "    <tr>\n",
       "      <th>22</th>\n",
       "      <td>Lakewood</td>\n",
       "      <td>Park Montessori School</td>\n",
       "      <td>Unrated</td>\n",
       "      <td>12358 E Delamo Blvd, Lakewood, CA, 90715</td>\n",
       "      <td>https://www.greatschools.org/california/lakewo...</td>\n",
       "      <td>Private</td>\n",
       "      <td>PK</td>\n",
       "      <td>NaN</td>\n",
       "      <td>NaN</td>\n",
       "      <td>NaN</td>\n",
       "    </tr>\n",
       "    <tr>\n",
       "      <th>19</th>\n",
       "      <td>Lakewood</td>\n",
       "      <td>Park Montessori School</td>\n",
       "      <td>Unrated</td>\n",
       "      <td>12350 E Delamo Blvd 2800, Lakewood, CA, 90715</td>\n",
       "      <td>https://www.greatschools.org/california/lakewo...</td>\n",
       "      <td>Private</td>\n",
       "      <td>PK-3</td>\n",
       "      <td>NaN</td>\n",
       "      <td>NaN</td>\n",
       "      <td>NaN</td>\n",
       "    </tr>\n",
       "    <tr>\n",
       "      <th>429</th>\n",
       "      <td>Downey</td>\n",
       "      <td>Ready Set Grow</td>\n",
       "      <td>Unrated</td>\n",
       "      <td>10225 Old River Sch Rd, Downey, CA, 90241</td>\n",
       "      <td>https://www.greatschools.org/california/downey...</td>\n",
       "      <td>Private</td>\n",
       "      <td>PK</td>\n",
       "      <td>NaN</td>\n",
       "      <td>NaN</td>\n",
       "      <td>NaN</td>\n",
       "    </tr>\n",
       "    <tr>\n",
       "      <th>546</th>\n",
       "      <td>Whittier</td>\n",
       "      <td>Ready Set Grow</td>\n",
       "      <td>Unrated</td>\n",
       "      <td>6556 Bright Avenue, Whittier, CA, 90601</td>\n",
       "      <td>https://www.greatschools.org/california/whitti...</td>\n",
       "      <td>Private</td>\n",
       "      <td>PK</td>\n",
       "      <td>NaN</td>\n",
       "      <td>NaN</td>\n",
       "      <td>NaN</td>\n",
       "    </tr>\n",
       "    <tr>\n",
       "      <th>73</th>\n",
       "      <td>Cerritos</td>\n",
       "      <td>Valley Christian High School</td>\n",
       "      <td>Unrated</td>\n",
       "      <td>17700 Dumont Avenue, Cerritos, CA, 90703</td>\n",
       "      <td>https://www.greatschools.org/california/cerrit...</td>\n",
       "      <td>Private</td>\n",
       "      <td>9-12</td>\n",
       "      <td>581.0</td>\n",
       "      <td>NaN</td>\n",
       "      <td>NaN</td>\n",
       "    </tr>\n",
       "    <tr>\n",
       "      <th>71</th>\n",
       "      <td>Cerritos</td>\n",
       "      <td>Valley Christian High School</td>\n",
       "      <td>Unrated</td>\n",
       "      <td>17700 Dumont Avenue, Cerritos, CA, 90703</td>\n",
       "      <td>https://www.greatschools.org/california/cerrit...</td>\n",
       "      <td>Private</td>\n",
       "      <td>9-12</td>\n",
       "      <td>462.0</td>\n",
       "      <td>NaN</td>\n",
       "      <td>NaN</td>\n",
       "    </tr>\n",
       "  </tbody>\n",
       "</table>\n",
       "</div>"
      ],
      "text/plain": [
       "          city                                school_name school_rating  \\\n",
       "634    Cypress                              Aslan Academy       Unrated   \n",
       "622    Cypress                              Aslan Academy       Unrated   \n",
       "441     Downey                        Creative Beginnings       Unrated   \n",
       "227  LongBeach                        Creative Beginnings       Unrated   \n",
       "426     Downey                        Creative Beginnings       Unrated   \n",
       "459     Downey                    Downey Christian School       Unrated   \n",
       "435     Downey                    Downey Christian School       Unrated   \n",
       "55    Cerritos                      Fecc Children Academy       Unrated   \n",
       "68    Cerritos                      Fecc Children Academy       Unrated   \n",
       "297  LongBeach                         Huntington Academy       Unrated   \n",
       "316  LongBeach                         Huntington Academy       Unrated   \n",
       "467     Downey                 Kirkwood Christian Schools       Unrated   \n",
       "460     Downey                 Kirkwood Christian Schools       Unrated   \n",
       "458     Downey                 Kirkwood Christian Schools       Unrated   \n",
       "396    Norwalk                    Liberty Baptist Academy       Unrated   \n",
       "393    Norwalk                    Liberty Baptist Academy       Unrated   \n",
       "93   LongBeach               Longfellow Elementary School        7\\n/10   \n",
       "496   Whittier               Longfellow Elementary School        5\\n/10   \n",
       "428     Downey  Maria Montessori House of Children School       Unrated   \n",
       "445     Downey  Maria Montessori House of Children School       Unrated   \n",
       "292  LongBeach                   Montessori School Eureka       Unrated   \n",
       "179  LongBeach                   Montessori School Eureka       Unrated   \n",
       "22    Lakewood                     Park Montessori School       Unrated   \n",
       "19    Lakewood                     Park Montessori School       Unrated   \n",
       "429     Downey                             Ready Set Grow       Unrated   \n",
       "546   Whittier                             Ready Set Grow       Unrated   \n",
       "73    Cerritos               Valley Christian High School       Unrated   \n",
       "71    Cerritos               Valley Christian High School       Unrated   \n",
       "\n",
       "                                    school_address  \\\n",
       "634     9080 Bloomfield Avenue, Cypress, CA, 90630   \n",
       "622          9734 Paseo De Oro, Cypress, CA, 90630   \n",
       "441         10910 Paramont Blvd, Downey, CA, 90241   \n",
       "227      5600 Linden Avenue, Long Beach, CA, 90805   \n",
       "426             8033 3rd Street, Downey, CA, 90241   \n",
       "459        8219 Florence Avenue, Downey, CA, 90240   \n",
       "435   10335 Paramount Boulevard, Downey, CA, 90241   \n",
       "55           11330 E 166th St, Cerritos, CA, 90703   \n",
       "68         11330 166th Street, Cerritos, CA, 90703   \n",
       "297      1423 Walnut Avenue, Long Beach, CA, 90813   \n",
       "316      1423 Walnut Avenue, Long Beach, CA, 90813   \n",
       "467       11115 Pangborn Avenue, Downey, CA, 90241   \n",
       "460       11115 Pangborn Avenue, Downey, CA, 90241   \n",
       "458       11115 Pangborn Avenue, Downey, CA, 90241   \n",
       "396          12029 Pine Street, Norwalk, CA, 90650   \n",
       "393          12029 Pine Street, Norwalk, CA, 90650   \n",
       "93        3800 Olive Avenue, Long Beach, CA, 90807   \n",
       "496      6005 Magnolia Avenue, Whittier, CA, 90601   \n",
       "428             12067 Paramount, Downey, CA, 90242   \n",
       "445       9036 Imperial Highway, Downey, CA, 90242   \n",
       "292    5306 East Arbor Road, Long Beach, CA, 90808   \n",
       "179    5306 East Arbor Road, Long Beach, CA, 90808   \n",
       "22        12358 E Delamo Blvd, Lakewood, CA, 90715   \n",
       "19   12350 E Delamo Blvd 2800, Lakewood, CA, 90715   \n",
       "429      10225 Old River Sch Rd, Downey, CA, 90241   \n",
       "546        6556 Bright Avenue, Whittier, CA, 90601   \n",
       "73        17700 Dumont Avenue, Cerritos, CA, 90703   \n",
       "71        17700 Dumont Avenue, Cerritos, CA, 90703   \n",
       "\n",
       "                                            school_url      school_type  \\\n",
       "634  https://www.greatschools.org/california/cypres...          Private   \n",
       "622  https://www.greatschools.org/california/cypres...          Private   \n",
       "441  https://www.greatschools.org/california/downey...          Private   \n",
       "227  https://www.greatschools.org/california/long-b...          Private   \n",
       "426  https://www.greatschools.org/california/downey...          Private   \n",
       "459  https://www.greatschools.org/california/downey...          Private   \n",
       "435  https://www.greatschools.org/california/downey...          Private   \n",
       "55   https://www.greatschools.org/california/cerrit...          Private   \n",
       "68   https://www.greatschools.org/california/cerrit...          Private   \n",
       "297  https://www.greatschools.org/california/long-b...          Private   \n",
       "316  https://www.greatschools.org/california/long-b...          Private   \n",
       "467  https://www.greatschools.org/california/downey...          Private   \n",
       "460  https://www.greatschools.org/california/downey...          Private   \n",
       "458  https://www.greatschools.org/california/downey...          Private   \n",
       "396  https://www.greatschools.org/california/norwal...          Private   \n",
       "393  https://www.greatschools.org/california/norwal...          Private   \n",
       "93   https://www.greatschools.org/california/long-b...  Public district   \n",
       "496  https://www.greatschools.org/california/whitti...  Public district   \n",
       "428  https://www.greatschools.org/california/downey...          Private   \n",
       "445  https://www.greatschools.org/california/downey...          Private   \n",
       "292  https://www.greatschools.org/california/long-b...          Private   \n",
       "179  https://www.greatschools.org/california/long-b...          Private   \n",
       "22   https://www.greatschools.org/california/lakewo...          Private   \n",
       "19   https://www.greatschools.org/california/lakewo...          Private   \n",
       "429  https://www.greatschools.org/california/downey...          Private   \n",
       "546  https://www.greatschools.org/california/whitti...          Private   \n",
       "73   https://www.greatschools.org/california/cerrit...          Private   \n",
       "71   https://www.greatschools.org/california/cerrit...          Private   \n",
       "\n",
       "    school_grades  school_total_students school_teacher_ratio  \\\n",
       "634          1-12                    NaN                  NaN   \n",
       "622          1-12                    NaN                  NaN   \n",
       "441           K-5                    NaN                  NaN   \n",
       "227            PK                    NaN                  NaN   \n",
       "426           K-6                  124.0                  NaN   \n",
       "459          PK-8                  177.0                  NaN   \n",
       "435           K-8                   80.0                  NaN   \n",
       "55           PK-K                   15.0                  NaN   \n",
       "68           PK-K                    NaN                  NaN   \n",
       "297          PK-5                   47.0                  NaN   \n",
       "316           K-4                   20.0                  NaN   \n",
       "467           K-5                  126.0                  NaN   \n",
       "460          PK-5                  214.0                  NaN   \n",
       "458           K-5                  118.0                  NaN   \n",
       "396          1-11                    8.0                  NaN   \n",
       "393          K-12                    9.0                  NaN   \n",
       "93            K-5                  990.0                 27:1   \n",
       "496           K-5                  561.0                 23:1   \n",
       "428           1-5                    NaN                  NaN   \n",
       "445           K-4                   16.0                  NaN   \n",
       "292          PK-K                   33.0                  NaN   \n",
       "179          PK-2                    NaN                  NaN   \n",
       "22             PK                    NaN                  NaN   \n",
       "19           PK-3                    NaN                  NaN   \n",
       "429            PK                    NaN                  NaN   \n",
       "546            PK                    NaN                  NaN   \n",
       "73           9-12                  581.0                  NaN   \n",
       "71           9-12                  462.0                  NaN   \n",
       "\n",
       "                              school_district  \n",
       "634                                       NaN  \n",
       "622                                       NaN  \n",
       "441                                       NaN  \n",
       "227                                       NaN  \n",
       "426                                       NaN  \n",
       "459                                       NaN  \n",
       "435                                       NaN  \n",
       "55                                        NaN  \n",
       "68                                        NaN  \n",
       "297                                       NaN  \n",
       "316                                       NaN  \n",
       "467                                       NaN  \n",
       "460                                       NaN  \n",
       "458                                       NaN  \n",
       "396                                       NaN  \n",
       "393                                       NaN  \n",
       "93         Long Beach Unified School District  \n",
       "496  Whittier City Elementary School District  \n",
       "428                                       NaN  \n",
       "445                                       NaN  \n",
       "292                                       NaN  \n",
       "179                                       NaN  \n",
       "22                                        NaN  \n",
       "19                                        NaN  \n",
       "429                                       NaN  \n",
       "546                                       NaN  \n",
       "73                                        NaN  \n",
       "71                                        NaN  "
      ]
     },
     "execution_count": 23,
     "metadata": {},
     "output_type": "execute_result"
    }
   ],
   "source": [
    "# Find duplicate schools\n",
    "aux = schools_df['school_name'].value_counts()[lambda x: x>1].index\n",
    "schools_df.loc[schools_df['school_name'].isin(aux)].sort_values(by=['school_name'])"
   ]
  },
  {
   "cell_type": "code",
   "execution_count": 24,
   "metadata": {},
   "outputs": [],
   "source": [
    "# Remove duplicate schools\n",
    "# There are many different cases for duplicates, so I'm dropping them manually\n",
    "duplicate_schools = [634, 622, 441, 435, 68, 297, 316, 467, 458, 396, 393, 428, 292, 22, 19, 71]\n",
    "schools_df.drop(duplicate_schools,axis=0, inplace=True)\n",
    "\n",
    "schools_df.loc[227,'school_name'] = 'YMCA Creative Beginnings'\n",
    "#aux = schools_df.drop_duplicates(subset=['school_name','city'])"
   ]
  },
  {
   "cell_type": "code",
   "execution_count": 25,
   "metadata": {},
   "outputs": [
    {
     "data": {
      "text/plain": [
       "647"
      ]
     },
     "execution_count": 25,
     "metadata": {},
     "output_type": "execute_result"
    }
   ],
   "source": [
    "# Number of schools\n",
    "schools_df.shape[0]"
   ]
  },
  {
   "attachments": {},
   "cell_type": "markdown",
   "metadata": {},
   "source": [
    "MERGE TEST SCORE DATASET WITH SCHOOL DATASET"
   ]
  },
  {
   "cell_type": "code",
   "execution_count": 28,
   "metadata": {},
   "outputs": [
    {
     "data": {
      "text/html": [
       "<div>\n",
       "<style scoped>\n",
       "    .dataframe tbody tr th:only-of-type {\n",
       "        vertical-align: middle;\n",
       "    }\n",
       "\n",
       "    .dataframe tbody tr th {\n",
       "        vertical-align: top;\n",
       "    }\n",
       "\n",
       "    .dataframe thead th {\n",
       "        text-align: right;\n",
       "    }\n",
       "</style>\n",
       "<table border=\"1\" class=\"dataframe\">\n",
       "  <thead>\n",
       "    <tr style=\"text-align: right;\">\n",
       "      <th></th>\n",
       "      <th>school_name</th>\n",
       "      <th>English</th>\n",
       "      <th>Math</th>\n",
       "      <th>Science</th>\n",
       "    </tr>\n",
       "  </thead>\n",
       "  <tbody>\n",
       "    <tr>\n",
       "      <th>0</th>\n",
       "      <td>A. E. Arnold Elementary School</td>\n",
       "      <td>64%</td>\n",
       "      <td>61%</td>\n",
       "      <td>43%</td>\n",
       "    </tr>\n",
       "    <tr>\n",
       "      <th>1</th>\n",
       "      <td>ABC Secondary (Alternative) School</td>\n",
       "      <td>22%</td>\n",
       "      <td>5%</td>\n",
       "      <td>5%</td>\n",
       "    </tr>\n",
       "    <tr>\n",
       "      <th>2</th>\n",
       "      <td>Ada S. Nelson Elementary School</td>\n",
       "      <td>55%</td>\n",
       "      <td>45%</td>\n",
       "      <td>32%</td>\n",
       "    </tr>\n",
       "    <tr>\n",
       "      <th>3</th>\n",
       "      <td>Addams Elementary School</td>\n",
       "      <td>34%</td>\n",
       "      <td>27%</td>\n",
       "      <td>18%</td>\n",
       "    </tr>\n",
       "    <tr>\n",
       "      <th>4</th>\n",
       "      <td>Aeolian Elementary School</td>\n",
       "      <td>42%</td>\n",
       "      <td>24%</td>\n",
       "      <td>19%</td>\n",
       "    </tr>\n",
       "  </tbody>\n",
       "</table>\n",
       "</div>"
      ],
      "text/plain": [
       "                          school_name English Math Science\n",
       "0      A. E. Arnold Elementary School     64%  61%     43%\n",
       "1  ABC Secondary (Alternative) School     22%   5%      5%\n",
       "2     Ada S. Nelson Elementary School     55%  45%     32%\n",
       "3            Addams Elementary School     34%  27%     18%\n",
       "4           Aeolian Elementary School     42%  24%     19%"
      ]
     },
     "execution_count": 28,
     "metadata": {},
     "output_type": "execute_result"
    }
   ],
   "source": [
    "# Reshape test_score dataset to merge it with the school dataset\n",
    "scores_df = pd.pivot_table(test_scores_df, values='subject_score', columns='subject_name', index=['school_name'],aggfunc='first').rename_axis(None,axis=1).reset_index() #index =['datetime'], columns =['school_name'], aggfunc=lambda x: x\n",
    "scores_df.columns = scores_df.columns.str.strip()\n",
    "scores_df.head()"
   ]
  },
  {
   "cell_type": "code",
   "execution_count": 29,
   "metadata": {},
   "outputs": [
    {
     "data": {
      "text/html": [
       "<div>\n",
       "<style scoped>\n",
       "    .dataframe tbody tr th:only-of-type {\n",
       "        vertical-align: middle;\n",
       "    }\n",
       "\n",
       "    .dataframe tbody tr th {\n",
       "        vertical-align: top;\n",
       "    }\n",
       "\n",
       "    .dataframe thead th {\n",
       "        text-align: right;\n",
       "    }\n",
       "</style>\n",
       "<table border=\"1\" class=\"dataframe\">\n",
       "  <thead>\n",
       "    <tr style=\"text-align: right;\">\n",
       "      <th></th>\n",
       "      <th>city</th>\n",
       "      <th>school_name</th>\n",
       "      <th>school_rating</th>\n",
       "      <th>school_address</th>\n",
       "      <th>school_url</th>\n",
       "      <th>school_type</th>\n",
       "      <th>school_grades</th>\n",
       "      <th>school_total_students</th>\n",
       "      <th>school_teacher_ratio</th>\n",
       "      <th>school_district</th>\n",
       "      <th>English</th>\n",
       "      <th>Math</th>\n",
       "      <th>Science</th>\n",
       "    </tr>\n",
       "  </thead>\n",
       "  <tbody>\n",
       "    <tr>\n",
       "      <th>0</th>\n",
       "      <td>Lakewood</td>\n",
       "      <td>Cleveland Elementary School</td>\n",
       "      <td>9\\n/10</td>\n",
       "      <td>4760 Hackett Avenue, Lakewood, CA, 90713</td>\n",
       "      <td>https://www.greatschools.org/california/lakewo...</td>\n",
       "      <td>Public district</td>\n",
       "      <td>K-5</td>\n",
       "      <td>469.0</td>\n",
       "      <td>21:1</td>\n",
       "      <td>Long Beach Unified School District</td>\n",
       "      <td>77%</td>\n",
       "      <td>65%</td>\n",
       "      <td>41%</td>\n",
       "    </tr>\n",
       "    <tr>\n",
       "      <th>1</th>\n",
       "      <td>Lakewood</td>\n",
       "      <td>Odyssey Stem Academy</td>\n",
       "      <td>8\\n/10</td>\n",
       "      <td>3701 Michelson Street, Lakewood, CA, 90712</td>\n",
       "      <td>https://www.greatschools.org/california/lakewo...</td>\n",
       "      <td>Public district</td>\n",
       "      <td>9-12</td>\n",
       "      <td>136.0</td>\n",
       "      <td>NaN</td>\n",
       "      <td>Paramount Unified School District</td>\n",
       "      <td>77%</td>\n",
       "      <td>14%</td>\n",
       "      <td>44%</td>\n",
       "    </tr>\n",
       "    <tr>\n",
       "      <th>2</th>\n",
       "      <td>Lakewood</td>\n",
       "      <td>Stephen Foster Elementary School</td>\n",
       "      <td>7\\n/10</td>\n",
       "      <td>5223 Bigelow Street, Lakewood, CA, 90712</td>\n",
       "      <td>https://www.greatschools.org/california/lakewo...</td>\n",
       "      <td>Public district</td>\n",
       "      <td>K-6</td>\n",
       "      <td>688.0</td>\n",
       "      <td>30:1</td>\n",
       "      <td>Bellflower Unified School District</td>\n",
       "      <td>57%</td>\n",
       "      <td>44%</td>\n",
       "      <td>43%</td>\n",
       "    </tr>\n",
       "    <tr>\n",
       "      <th>3</th>\n",
       "      <td>Lakewood</td>\n",
       "      <td>Gompers K-8</td>\n",
       "      <td>7\\n/10</td>\n",
       "      <td>5206 Briercrest Avenue, Lakewood, CA, 90713</td>\n",
       "      <td>https://www.greatschools.org/california/lakewo...</td>\n",
       "      <td>Public district</td>\n",
       "      <td>K-8</td>\n",
       "      <td>700.0</td>\n",
       "      <td>24:1</td>\n",
       "      <td>Long Beach Unified School District</td>\n",
       "      <td>52%</td>\n",
       "      <td>45%</td>\n",
       "      <td>25%</td>\n",
       "    </tr>\n",
       "    <tr>\n",
       "      <th>4</th>\n",
       "      <td>Lakewood</td>\n",
       "      <td>Holmes Elementary School</td>\n",
       "      <td>7\\n/10</td>\n",
       "      <td>5020 Barlin Avenue, Lakewood, CA, 90712</td>\n",
       "      <td>https://www.greatschools.org/california/lakewo...</td>\n",
       "      <td>Public district</td>\n",
       "      <td>K-5</td>\n",
       "      <td>383.0</td>\n",
       "      <td>20:1</td>\n",
       "      <td>Long Beach Unified School District</td>\n",
       "      <td>51%</td>\n",
       "      <td>43%</td>\n",
       "      <td>24%</td>\n",
       "    </tr>\n",
       "  </tbody>\n",
       "</table>\n",
       "</div>"
      ],
      "text/plain": [
       "       city                       school_name school_rating  \\\n",
       "0  Lakewood       Cleveland Elementary School        9\\n/10   \n",
       "1  Lakewood              Odyssey Stem Academy        8\\n/10   \n",
       "2  Lakewood  Stephen Foster Elementary School        7\\n/10   \n",
       "3  Lakewood                       Gompers K-8        7\\n/10   \n",
       "4  Lakewood          Holmes Elementary School        7\\n/10   \n",
       "\n",
       "                                school_address  \\\n",
       "0     4760 Hackett Avenue, Lakewood, CA, 90713   \n",
       "1   3701 Michelson Street, Lakewood, CA, 90712   \n",
       "2     5223 Bigelow Street, Lakewood, CA, 90712   \n",
       "3  5206 Briercrest Avenue, Lakewood, CA, 90713   \n",
       "4      5020 Barlin Avenue, Lakewood, CA, 90712   \n",
       "\n",
       "                                          school_url      school_type  \\\n",
       "0  https://www.greatschools.org/california/lakewo...  Public district   \n",
       "1  https://www.greatschools.org/california/lakewo...  Public district   \n",
       "2  https://www.greatschools.org/california/lakewo...  Public district   \n",
       "3  https://www.greatschools.org/california/lakewo...  Public district   \n",
       "4  https://www.greatschools.org/california/lakewo...  Public district   \n",
       "\n",
       "  school_grades  school_total_students school_teacher_ratio  \\\n",
       "0           K-5                  469.0                 21:1   \n",
       "1          9-12                  136.0                  NaN   \n",
       "2           K-6                  688.0                 30:1   \n",
       "3           K-8                  700.0                 24:1   \n",
       "4           K-5                  383.0                 20:1   \n",
       "\n",
       "                      school_district English Math Science  \n",
       "0  Long Beach Unified School District     77%  65%     41%  \n",
       "1   Paramount Unified School District     77%  14%     44%  \n",
       "2  Bellflower Unified School District     57%  44%     43%  \n",
       "3  Long Beach Unified School District     52%  45%     25%  \n",
       "4  Long Beach Unified School District     51%  43%     24%  "
      ]
     },
     "execution_count": 29,
     "metadata": {},
     "output_type": "execute_result"
    }
   ],
   "source": [
    "# Merge schools_df with scores_df\n",
    "schools_df = schools_df.merge(scores_df, how='left', on='school_name')\n",
    "schools_df.head()    "
   ]
  },
  {
   "attachments": {},
   "cell_type": "markdown",
   "metadata": {},
   "source": [
    "MISSING VALUES"
   ]
  },
  {
   "cell_type": "code",
   "execution_count": 30,
   "metadata": {},
   "outputs": [
    {
     "data": {
      "text/plain": [
       "city                       0\n",
       "school_name                0\n",
       "school_rating              0\n",
       "school_address             0\n",
       "school_url                 0\n",
       "school_type                0\n",
       "school_grades              0\n",
       "school_total_students    270\n",
       "school_teacher_ratio     413\n",
       "school_district          401\n",
       "English                  416\n",
       "Math                     416\n",
       "Science                  423\n",
       "dtype: int64"
      ]
     },
     "execution_count": 30,
     "metadata": {},
     "output_type": "execute_result"
    }
   ],
   "source": [
    "# How many missing values per column in school dataset?\n",
    "missing_values_count = schools_df.isnull().sum()\n",
    "missing_values_count"
   ]
  },
  {
   "cell_type": "code",
   "execution_count": 31,
   "metadata": {},
   "outputs": [
    {
     "name": "stdout",
     "output_type": "stream",
     "text": [
      "Percentage of missing values: 27.81\n"
     ]
    }
   ],
   "source": [
    "# How many total missing values do we have in the school dataset?\n",
    "total_cells = np.product(schools_df.shape)\n",
    "total_missing = missing_values_count.sum()\n",
    "\t\n",
    "# percent of data that is missing\n",
    "percent_missing = (total_missing/total_cells) * 100\n",
    "print(\"Percentage of missing values: %.2f\" % (percent_missing))"
   ]
  },
  {
   "attachments": {},
   "cell_type": "markdown",
   "metadata": {},
   "source": [
    "Let's analyze missing values in regard to school_type (Private and Public schools)"
   ]
  },
  {
   "cell_type": "code",
   "execution_count": 32,
   "metadata": {},
   "outputs": [
    {
     "name": "stdout",
     "output_type": "stream",
     "text": [
      "Number of private schools: 401 \n",
      " Missing values:\n",
      " city                       0\n",
      "school_name                0\n",
      "school_rating              0\n",
      "school_address             0\n",
      "school_url                 0\n",
      "school_type                0\n",
      "school_grades              0\n",
      "school_total_students    261\n",
      "school_teacher_ratio     401\n",
      "school_district          401\n",
      "English                  401\n",
      "Math                     401\n",
      "Science                  401\n",
      "dtype: int64\n",
      "Percentage of missing values: 43.47\n"
     ]
    }
   ],
   "source": [
    "# Missing values for private schools\n",
    "private_s_df  = schools_df.loc[schools_df['school_type'] == 'Private']\n",
    "public_s_df   = schools_df.loc[schools_df['school_type'] != 'Private']\n",
    "print(\"Number of private schools:\", private_s_df.shape[0],\"\\n\",\n",
    "      \"Missing values:\\n\", private_s_df.isnull().sum())\n",
    "\n",
    "missing_values_count = private_s_df.isnull().sum()\n",
    "total_cells = np.product(private_s_df.shape)\n",
    "total_missing = missing_values_count.sum()\n",
    "# percent of data that is missing\n",
    "percent_missing = (total_missing/total_cells) * 100\n",
    "print(\"Percentage of missing values: %.2f\" % (percent_missing))"
   ]
  },
  {
   "attachments": {},
   "cell_type": "markdown",
   "metadata": {},
   "source": [
    "None of the 401 private schools have information about teacher-student ratio, school district, and test scores, and 261 of them don't have information about total students.\n",
    "\n",
    "It is important to notice that this doesn't identify values such as 'Ungraded' or 'Unrated' which are included in many features."
   ]
  },
  {
   "cell_type": "code",
   "execution_count": 33,
   "metadata": {},
   "outputs": [
    {
     "name": "stdout",
     "output_type": "stream",
     "text": [
      "Number of public schools: 246 \n",
      " Missing values: \n",
      " city                      0\n",
      "school_name               0\n",
      "school_rating             0\n",
      "school_address            0\n",
      "school_url                0\n",
      "school_type               0\n",
      "school_grades             0\n",
      "school_total_students     9\n",
      "school_teacher_ratio     12\n",
      "school_district           0\n",
      "English                  15\n",
      "Math                     15\n",
      "Science                  22\n",
      "dtype: int64\n",
      "Percentage of missing values: 2.28\n"
     ]
    }
   ],
   "source": [
    "# Missing values for public schools\n",
    "print(\"Number of public schools:\", public_s_df.shape[0],\"\\n\",\n",
    "      \"Missing values: \\n\", public_s_df.isnull().sum())\n",
    "\n",
    "missing_values_count = public_s_df.isnull().sum()\n",
    "total_cells = np.product(public_s_df.shape)\n",
    "total_missing = missing_values_count.sum()\n",
    "# percent of data that is missing\n",
    "percent_missing = (total_missing/total_cells) * 100\n",
    "print(\"Percentage of missing values: %.2f\" % (percent_missing))      "
   ]
  },
  {
   "attachments": {},
   "cell_type": "markdown",
   "metadata": {},
   "source": [
    "There are 246 public schools and less than 3% have missing values. "
   ]
  },
  {
   "cell_type": "code",
   "execution_count": 34,
   "metadata": {},
   "outputs": [],
   "source": [
    "# Remove rows with no information about total students, teacher student ratio, school grades and school rating\n",
    "aux = schools_df[schools_df['school_total_students'].isnull() & \n",
    "              schools_df['school_teacher_ratio'].isnull() &\n",
    "             (schools_df['school_grades'] == 'Ungraded') & \n",
    "             (schools_df['school_rating'] == 'Unrated')].index\n",
    "schools_df.drop(aux, inplace=True)\n"
   ]
  },
  {
   "cell_type": "code",
   "execution_count": 35,
   "metadata": {},
   "outputs": [],
   "source": [
    "# Drop Adult schools_df because we are not interested\n",
    "aux = schools_df.loc[schools_df['school_name'].str.contains('adult', case=False, regex = False)].index\n",
    "schools_df.drop(aux, inplace=True)"
   ]
  },
  {
   "cell_type": "code",
   "execution_count": 37,
   "metadata": {},
   "outputs": [],
   "source": [
    "# Drop rows with special cases because we are not interested\n",
    "aux = schools_df.loc[schools_df['school_name'].str.contains('Preparatory', case=False, regex = False)].index\n",
    "schools_df.drop(aux, inplace=True)\n",
    "\n",
    "aux = schools_df.loc[(schools_df['school_district'] == 'Long Beach Unified Rop School District') | \n",
    "                     (schools_df['school_district'] == 'The Education Corps District') |\n",
    "                     (schools_df['school_district'] == 'Clear Passage Educational Center District') |\n",
    "                     (schools_df['school_district'] == 'California Advancing Pathways For Students In Los Angeles County Roc P School District') |\n",
    "                     (schools_df['school_district'] == 'Los Angeles County Office Of Education School District') |\n",
    "                     (schools_df['school_district'] == 'Los Angeles County Rop School District') |\n",
    "                     (schools_df['school_district'] == 'Tri-Cities Rop School District')].index\n",
    "schools_df.drop(aux, inplace=True)\n"
   ]
  },
  {
   "cell_type": "code",
   "execution_count": 36,
   "metadata": {},
   "outputs": [
    {
     "data": {
      "text/plain": [
       "array(['Private'], dtype=object)"
      ]
     },
     "execution_count": 36,
     "metadata": {},
     "output_type": "execute_result"
    }
   ],
   "source": [
    "# Analyzing missing values for the feature school_district\n",
    "aux = schools_df.loc[schools_df['school_district'].isnull()]\n",
    "aux['school_type'].unique()"
   ]
  },
  {
   "attachments": {},
   "cell_type": "markdown",
   "metadata": {},
   "source": [
    "The feature school district has missing values only for Private schools, we will replace nan values with \"Private\"."
   ]
  },
  {
   "cell_type": "code",
   "execution_count": 38,
   "metadata": {},
   "outputs": [],
   "source": [
    "# Assign value 'Private' to missing values in school_district\n",
    "schools_df['school_district'] = schools_df['school_district'].apply(lambda x: 'Private' if pd.isna(x) else x)"
   ]
  },
  {
   "cell_type": "code",
   "execution_count": 39,
   "metadata": {},
   "outputs": [],
   "source": [
    "# Correct misspelled school districts\n",
    "schools_df.loc[82,'school_district'] = 'Long Beach Unified School District'\n",
    "schools_df.loc[141,'school_district'] = 'Long Beach Unified School District'"
   ]
  },
  {
   "cell_type": "code",
   "execution_count": 40,
   "metadata": {},
   "outputs": [],
   "source": [
    "# Replace nan values for 'school_teacher_ratio' with \"Unknown\"\n",
    "schools_df['school_teacher_ratio'].fillna(\"Unknown\", inplace = True)"
   ]
  },
  {
   "attachments": {},
   "cell_type": "markdown",
   "metadata": {},
   "source": [
    "CREATING LEVELS BASED ON SCHOOL GRADES"
   ]
  },
  {
   "attachments": {},
   "cell_type": "markdown",
   "metadata": {},
   "source": [
    "Because the grades included in each school vary greatly, we will create four new grouping features that will facilitate the analysis: \n",
    "- pre_k_school\n",
    "- elementary_school\n",
    "- middle_school\n",
    "- high_school\n",
    "\n",
    "The grades included in each category vary depending on the school district.\n",
    "\n",
    "When the school grade contains K, we will do a special analysis and include it either on Pre-K schools or Elementary schools, depending on the case.\n",
    "\n",
    "Schools could belong to more than one category if they have grades contained in more than one category. "
   ]
  },
  {
   "cell_type": "code",
   "execution_count": 41,
   "metadata": {},
   "outputs": [],
   "source": [
    "# Group school grades in levels\n",
    "\n",
    "def new_levels(row):\n",
    "    # Define segments\n",
    "    if row['school_district'] in ['Long Beach Unified School District',\n",
    "                                  'Paramount Unified School District',\n",
    "                                  'Little Lake City Elementary School District',\n",
    "                                  'Norwalk-La Mirada Unified School District',\n",
    "                                  'Downey Unified School District',\n",
    "                                  'Whittier City Elementary School District',\n",
    "                                  'Los Alamitos Unified School District']:\n",
    "        pre_k_grade = ['PK']\n",
    "        kinder = ['K']\n",
    "        elementary_grades = ['1','2','3','4','5']\n",
    "        middle_grades = ['6','7','8']\n",
    "        high_school_grades = ['9','10','11','12']\n",
    "    elif row['school_district'] in ['Bellflower Unified School District',\n",
    "                                    'Abc Unified School District',\n",
    "                                    'Cypress Elementary School District']:\n",
    "        pre_k_grade = ['PK']\n",
    "        kinder = ['K']\n",
    "        elementary_grades = ['1','2','3','4','5','6']\n",
    "        middle_grades = ['7','8']\n",
    "        high_school_grades = ['9','10','11','12']\n",
    "    elif row['school_district'] in ['East Whittier City Elementary School District',\n",
    "                                    'Lowell Joint School District',\n",
    "                                    'Los Nietos School District',\n",
    "                                    'South Whittier Elementary School District']:\n",
    "        pre_k_grade = ['PK']\n",
    "        kinder = ['K']\n",
    "        elementary_grades = ['1','2','3','4','5','6','7','8']\n",
    "        middle_grades = []\n",
    "        high_school_grades = ['9','10','11','12']\n",
    "    else: # Only high schools districts Anaheim Union High School District, Whittier Union High School District, and Private Schools\n",
    "        pre_k_grade = ['PK']\n",
    "        kinder = ['K']\n",
    "        elementary_grades = ['1','2','3','4','5']\n",
    "        middle_grades = ['6','7','8']\n",
    "        high_school_grades = ['9','10','11','12']\n",
    "\n",
    "    \n",
    "    # Creating multiple boolean variables because a school can include multiple levels \n",
    "    row['pre_k_school']      = False\n",
    "    row['elementary_school'] = False\n",
    "    row['middle_school']     = False\n",
    "    row['high_school']       = False\n",
    "    \n",
    "    # parse\n",
    "    levels = row['school_grades'].split(',')\n",
    "    #for index,row in levels.iterrows():\n",
    "    for i,j in enumerate(levels):\n",
    "        if levels[i] != None:\n",
    "            try:\n",
    "                a , b = levels[i].split(sep='-')\n",
    "            except:\n",
    "                a = levels[i]\n",
    "                b = levels[i]\n",
    "\n",
    "            a = a.strip()\n",
    "            b = b.strip()\n",
    "\n",
    "            if a in pre_k_grade:\n",
    "                row['pre_k_school']      = True\n",
    "            # If in the split, the K appears on the right side (a) it means it is a school that begins in Kinder and has superior grades, so we include the school as an elementary school\n",
    "            elif (a in kinder) & (a != b):\n",
    "                row['elementary_school'] = True  \n",
    "            elif a in elementary_grades:\n",
    "                row['elementary_school'] = True\n",
    "            elif a in middle_grades:\n",
    "                row['middle_school']     = True\n",
    "            elif a in high_school_grades:\n",
    "                row['high_school']       = True\n",
    "\n",
    "            # If in the split, the K appears on the left side (b) it means it is a school that ends in Kinder, so we include the school as pre-k school\n",
    "            if b in pre_k_grade:\n",
    "                row['pre_k_school'] = True\n",
    "            elif b in kinder:\n",
    "                row['pre_k_school'] = True\n",
    "            elif b in elementary_grades:\n",
    "                row['elementary_school'] = True\n",
    "            elif b in middle_grades:\n",
    "                row['middle_school'] = True\n",
    "            elif b in high_school_grades:\n",
    "                row['high_school']       = True\n",
    "\n",
    "        # Special case: when the range includes levels that are not consecutive \n",
    "        if (row['pre_k_school'] == True & row['middle_school'] == True):\n",
    "            row['elementary_school'] = True   \n",
    "\n",
    "        if (row['elementary_school'] == True & row['high_school'] == True):\n",
    "            row['middle_school'] = True  \n",
    "\n",
    "        if (row['pre_k_school'] == True & row['high_school'] == True):\n",
    "            row['elementary_school'] = True \n",
    "            row['middle_school'] = True  \n",
    "         \n",
    "    #try:\n",
    "    #    a, b = levels.split('-', 1) #row['school_grades'].split('-', 1)\n",
    "    #except:\n",
    "    #    a = row['school_grades']\n",
    "    #    b = row['school_grades']\n",
    "\n",
    "     \n",
    "    return row\n",
    "    \n",
    "schools_df = schools_df.apply(new_levels, axis='columns')"
   ]
  },
  {
   "attachments": {},
   "cell_type": "markdown",
   "metadata": {},
   "source": [
    "RE-FORMATING SCHOOL RATING"
   ]
  },
  {
   "cell_type": "code",
   "execution_count": 42,
   "metadata": {},
   "outputs": [
    {
     "data": {
      "text/plain": [
       "0            9\n",
       "1            8\n",
       "2            7\n",
       "3            7\n",
       "4            7\n",
       "        ...   \n",
       "642    Unrated\n",
       "643    Unrated\n",
       "644    Unrated\n",
       "645    Unrated\n",
       "646    Unrated\n",
       "Name: school_rating, Length: 628, dtype: object"
      ]
     },
     "execution_count": 42,
     "metadata": {},
     "output_type": "execute_result"
    }
   ],
   "source": [
    "# Change format of school rating for the ones that have a value\n",
    "schools_df['num'] = schools_df['school_rating'].str.partition(\"\\n/\")[0]\n",
    "schools_df['school_rating'] = schools_df['num'] #schools_df['num'].apply(lambda x: pd.to_numeric(x) / 10 if x != 'Unrated' else x) \n",
    "schools_df.drop(columns=['num'], inplace=True)\n",
    "schools_df['school_rating']"
   ]
  },
  {
   "attachments": {},
   "cell_type": "markdown",
   "metadata": {},
   "source": [
    "CREATING RATIO BINS TO GROUP TEACHER STUDENT RATIOS"
   ]
  },
  {
   "cell_type": "code",
   "execution_count": 43,
   "metadata": {},
   "outputs": [],
   "source": [
    "# Group school_teacher_ratio in a new feature called ratio_bins\n",
    "def ratio_bins_func (row):\n",
    "    #parse\n",
    "    if row['school_teacher_ratio'] != 'Unknown':\n",
    "        row['ratio'] = pd.to_numeric(row['school_teacher_ratio'].partition(\":\")[0])\n",
    "    else:\n",
    "        row['ratio'] = 'Unknown'\n",
    "\n",
    "    if row['ratio'] == 'Unknown':\n",
    "        row['ratio_bins'] = 'Unknown'\n",
    "    elif row['ratio'] <= 9:\n",
    "        row['ratio_bins'] = '<10'\n",
    "    elif row['ratio'] <= 15:\n",
    "        row['ratio_bins'] = '10-15'\n",
    "    elif row['ratio'] <= 20:\n",
    "        row['ratio_bins'] = '16-20'\n",
    "    elif row['ratio'] <= 30:\n",
    "        row['ratio_bins'] = '21-30'\n",
    "    else:\n",
    "        row['ratio_bins'] = '30+'\n",
    "\n",
    "    return row\n",
    "\n",
    "    \n",
    "schools_df = schools_df.apply(ratio_bins_func, axis='columns')\n",
    "\n",
    "schools_df.drop(columns=['ratio'], inplace=True)\n"
   ]
  },
  {
   "attachments": {},
   "cell_type": "markdown",
   "metadata": {},
   "source": [
    "CONVERTING TEST SCORES TO NUMERIC"
   ]
  },
  {
   "cell_type": "code",
   "execution_count": 44,
   "metadata": {},
   "outputs": [],
   "source": [
    "# Replace symbols and convert\n",
    "schools_df['English']= schools_df['English'].str.replace('%','')\n",
    "schools_df['English']= schools_df['English'].apply(lambda x: pd.to_numeric(x))\n",
    "schools_df['Math']= schools_df['Math'].str.replace('%','')\n",
    "schools_df['Math']= schools_df['Math'].str.replace('<','')\n",
    "schools_df['Math']= schools_df['Math'].apply(lambda x: pd.to_numeric(x))\n",
    "schools_df['Science']= schools_df['Science'].str.replace('%','')\n",
    "schools_df['Science']= schools_df['Science'].str.replace('<','')\n",
    "schools_df['Science']= schools_df['Science'].apply(lambda x: pd.to_numeric(x))"
   ]
  },
  {
   "attachments": {},
   "cell_type": "markdown",
   "metadata": {},
   "source": [
    "CORRECTING SCHOOL ADDRESS "
   ]
  },
  {
   "cell_type": "code",
   "execution_count": 45,
   "metadata": {},
   "outputs": [],
   "source": [
    "# Correcting addresses that fail to obtain lat, lon\n",
    "schools_df.loc[250,'school_address'] = '5431 E Ocean Blvd., Long Beach, CA, 90803'\n",
    "schools_df.loc[78,'school_address'] = '101 Venetia Dr, Long Beach, CA, 90803'\n",
    "schools_df.loc[557,'school_address'] = '7056 Washington Avenue, Whittier, CA, 90602'\n",
    "schools_df.loc[74,'school_address'] = '5808 E Marita St, Long Beach, CA, 90815'\n",
    "schools_df.loc[86,'school_address'] = '3055 Rutgers Ave, Long Beach, CA 90808'\n",
    "schools_df.loc[36,'school_address'] = '13418 Moore St, Cerritos, CA 90703'\n",
    "schools_df.loc[49,'school_address'] = '13418 Moore St, Cerritos, CA 90703'\n",
    "schools_df.loc[84,'school_address'] = '3684 Karen Ave, Long Beach, CA 90808'\n",
    "schools_df.loc[96,'school_address'] = '2159 Rutgers Ave, Long Beach, CA 90815'\n",
    "schools_df.loc[131,'school_address'] = '2159 Rutgers Ave, Long Beach, CA 90815'\n",
    "schools_df.loc[323,'school_address'] = '9243 Laurel St, Bellflower, CA 90706'\n",
    "schools_df.loc[366,'school_address'] = '13432 Halcourt Ave., Norwalk, CA, 90650'\n",
    "schools_df.loc[414,'school_address'] = '8236 Lankin St, Downey, CA, 90242'\n",
    "schools_df.loc[418,'school_address'] = '9403 Borson St, Downey, CA 90242'\n",
    "schools_df.loc[421,'school_address'] = '9403 Borson St, Downey, CA 90242'\n",
    "schools_df.loc[438,'school_address'] = '9403 Borson St, Downey, CA 90242'\n",
    "schools_df.loc[471,'school_address'] = '8324 Millergrove Dr, Whittier, CA 90606'\n",
    "schools_df.loc[494,'school_address'] = '10001 Carmenita Rd, Whittier, CA 90605'\n",
    "schools_df.loc[507,'school_address'] = '8324 Millergrove Dr, Whittier, CA 90606'\n",
    "schools_df.loc[577,'school_address'] = '10319 Los Alamitos Blvd, Los Alamitos, CA 90720'\n",
    "schools_df.loc[579,'school_address'] = '12521 Kensington Rd, Rossmoor, CA 90720'\n",
    "schools_df.loc[584,'school_address'] = '10261 Mardel Dr, Cypress, CA 90630'\n",
    "schools_df.loc[193,'school_address'] = '3041 Delta Ave, Long Beach, CA, 90810'"
   ]
  },
  {
   "attachments": {},
   "cell_type": "markdown",
   "metadata": {},
   "source": [
    "FINDING LATITUD AND LONGITUD VALUES FOR EACH SCHOOL"
   ]
  },
  {
   "cell_type": "code",
   "execution_count": null,
   "metadata": {},
   "outputs": [],
   "source": [
    "# Get latitud and longitud values for each school\n",
    "\n",
    "# Initialize Nominatim into geolocator variable\n",
    "geolocator = Nominatim(user_agent='schools')\n",
    "\n",
    "# Apply geolocator.geocode to the address column\n",
    "schools_df['locat'] = schools_df['school_address'].apply(geolocator.geocode)\n",
    "# Get .point containing latitude and longitude from the geocode’s response, if it’s not None\n",
    "schools_df['point']= schools_df['locat'].apply(lambda locat: tuple(locat.point) if locat else None)\n",
    "# Split the .point into separate columns 'lat' 'lon' and 'altitude'\n",
    "schools_df[['lat', 'lon', 'altitude']] = pd.DataFrame(schools_df['point'].to_list(), index=schools_df.index)\n",
    "#except:\n",
    "#    schools_df['locat'] = ''\n",
    "#    schools_df['point']= ''\n",
    "#    schools_df[['lat', 'lon', 'altitude']] = ''\n",
    "\n",
    "\n",
    "schools_df.drop(columns=['locat','point'], inplace=True)\n",
    "# Dump location data\n",
    "#schools_df[['school_name','city','lat','lon','altitude']].to_csv(\"data/LocationInfo.csv\")"
   ]
  },
  {
   "cell_type": "code",
   "execution_count": 47,
   "metadata": {},
   "outputs": [],
   "source": [
    "# OR Load location data from file\n",
    "locations_df = pd.read_csv('data/LocationInfo.csv')\n",
    "#schools_df = schools_df.drop_duplicates(subset=['school_name','city'])\n",
    "#locations_df = locations_df.drop_duplicates(subset=['school_name','city'])\n",
    "\n",
    "schools_df = schools_df.merge(locations_df, how='inner', on=['school_name','city'])\n",
    "\n",
    "schools_df.drop(columns='Unnamed: 0', inplace=True)\n"
   ]
  },
  {
   "cell_type": "code",
   "execution_count": 50,
   "metadata": {},
   "outputs": [
    {
     "data": {
      "text/html": [
       "<div>\n",
       "<style scoped>\n",
       "    .dataframe tbody tr th:only-of-type {\n",
       "        vertical-align: middle;\n",
       "    }\n",
       "\n",
       "    .dataframe tbody tr th {\n",
       "        vertical-align: top;\n",
       "    }\n",
       "\n",
       "    .dataframe thead th {\n",
       "        text-align: right;\n",
       "    }\n",
       "</style>\n",
       "<table border=\"1\" class=\"dataframe\">\n",
       "  <thead>\n",
       "    <tr style=\"text-align: right;\">\n",
       "      <th></th>\n",
       "      <th>school_name</th>\n",
       "      <th>Asian</th>\n",
       "      <th>Black</th>\n",
       "      <th>Filipino</th>\n",
       "      <th>Hispanic</th>\n",
       "      <th>Native American</th>\n",
       "      <th>Pacific Islander</th>\n",
       "      <th>Two or more races</th>\n",
       "      <th>Unspecified</th>\n",
       "      <th>White</th>\n",
       "    </tr>\n",
       "  </thead>\n",
       "  <tbody>\n",
       "    <tr>\n",
       "      <th>0</th>\n",
       "      <td>A. E. Arnold Elementary School</td>\n",
       "      <td>32%</td>\n",
       "      <td>6%</td>\n",
       "      <td>5%</td>\n",
       "      <td>29%</td>\n",
       "      <td>&lt;1%</td>\n",
       "      <td>&lt;1%</td>\n",
       "      <td>3%</td>\n",
       "      <td>NaN</td>\n",
       "      <td>25%</td>\n",
       "    </tr>\n",
       "    <tr>\n",
       "      <th>1</th>\n",
       "      <td>ABC Secondary (Alternative) School</td>\n",
       "      <td>4%</td>\n",
       "      <td>11%</td>\n",
       "      <td>5%</td>\n",
       "      <td>74%</td>\n",
       "      <td>NaN</td>\n",
       "      <td>NaN</td>\n",
       "      <td>1%</td>\n",
       "      <td>NaN</td>\n",
       "      <td>5%</td>\n",
       "    </tr>\n",
       "    <tr>\n",
       "      <th>2</th>\n",
       "      <td>Ada S. Nelson Elementary School</td>\n",
       "      <td>1%</td>\n",
       "      <td>1%</td>\n",
       "      <td>&lt;1%</td>\n",
       "      <td>96%</td>\n",
       "      <td>NaN</td>\n",
       "      <td>NaN</td>\n",
       "      <td>NaN</td>\n",
       "      <td>1%</td>\n",
       "      <td>1%</td>\n",
       "    </tr>\n",
       "    <tr>\n",
       "      <th>3</th>\n",
       "      <td>Addams Elementary School</td>\n",
       "      <td>5%</td>\n",
       "      <td>15%</td>\n",
       "      <td>1%</td>\n",
       "      <td>74%</td>\n",
       "      <td>&lt;1%</td>\n",
       "      <td>1%</td>\n",
       "      <td>2%</td>\n",
       "      <td>1%</td>\n",
       "      <td>1%</td>\n",
       "    </tr>\n",
       "    <tr>\n",
       "      <th>4</th>\n",
       "      <td>Aeolian Elementary School</td>\n",
       "      <td>1%</td>\n",
       "      <td>1%</td>\n",
       "      <td>NaN</td>\n",
       "      <td>96%</td>\n",
       "      <td>NaN</td>\n",
       "      <td>NaN</td>\n",
       "      <td>&lt;1%</td>\n",
       "      <td>NaN</td>\n",
       "      <td>2%</td>\n",
       "    </tr>\n",
       "  </tbody>\n",
       "</table>\n",
       "</div>"
      ],
      "text/plain": [
       "                          school_name Asian Black Filipino Hispanic  \\\n",
       "0      A. E. Arnold Elementary School   32%    6%       5%      29%   \n",
       "1  ABC Secondary (Alternative) School    4%   11%       5%      74%   \n",
       "2     Ada S. Nelson Elementary School    1%    1%      <1%      96%   \n",
       "3            Addams Elementary School    5%   15%       1%      74%   \n",
       "4           Aeolian Elementary School    1%    1%      NaN      96%   \n",
       "\n",
       "  Native American Pacific Islander Two or more races Unspecified White  \n",
       "0             <1%              <1%                3%         NaN   25%  \n",
       "1             NaN              NaN                1%         NaN    5%  \n",
       "2             NaN              NaN               NaN          1%    1%  \n",
       "3             <1%               1%                2%          1%    1%  \n",
       "4             NaN              NaN               <1%         NaN    2%  "
      ]
     },
     "execution_count": 50,
     "metadata": {},
     "output_type": "execute_result"
    }
   ],
   "source": [
    "# Reshape demographic dataset to join it with the school dataset\n",
    "demo_df = pd.pivot_table(demographics_df, values='race_score', columns='race', index=['school_name'],aggfunc='first').rename_axis(None,axis=1).reset_index() #index =['datetime'], columns =['school_name'], aggfunc=lambda x: x\n",
    "\n",
    "demo_df.columns = demo_df.columns.str.strip()\n",
    "# Final dataset\n",
    "demo_df.head()"
   ]
  },
  {
   "cell_type": "code",
   "execution_count": 51,
   "metadata": {},
   "outputs": [
    {
     "name": "stdout",
     "output_type": "stream",
     "text": [
      "Columns:  ['city', 'school_name', 'school_rating', 'school_address', 'school_url', 'school_type', 'school_grades', 'school_total_students', 'school_teacher_ratio', 'school_district', 'English', 'Math', 'Science', 'pre_k_school', 'elementary_school', 'middle_school', 'high_school', 'ratio_bins', 'lat', 'lon', 'altitude', 'Asian', 'Black', 'Filipino', 'Hispanic', 'Native American', 'Pacific Islander', 'Two or more races', 'Unspecified', 'White'] \n",
      "Number of rows:  628\n"
     ]
    }
   ],
   "source": [
    "# Join schools_df with demographics_df to create a unified dataset to use in Tableau.\n",
    "# It contains all the schools, location information, demographic information, and Test Scores. \n",
    "# Also, it has been pre-processed in the same way so the Analysis can be compared.\n",
    "\n",
    "schoolsTableau_df = schools_df.merge(demo_df, how='left', on='school_name') \n",
    "schoolsTableau_df.to_csv(\"data/SchoolsTableau.csv\")\n",
    "print('Columns: ',\n",
    "      schoolsTableau_df.columns.to_list(), \n",
    "      '\\nNumber of rows: ',\n",
    "      schoolsTableau_df.shape[0])"
   ]
  },
  {
   "attachments": {},
   "cell_type": "markdown",
   "metadata": {},
   "source": [
    "## EXPLORATORY DATA ANALYSIS"
   ]
  },
  {
   "attachments": {},
   "cell_type": "markdown",
   "metadata": {},
   "source": [
    "### SCHOOLS PER TYPE: Private and Public"
   ]
  },
  {
   "cell_type": "code",
   "execution_count": null,
   "metadata": {},
   "outputs": [],
   "source": [
    "# How many schools are there per type?\n",
    "\n",
    "# Set the width and height of the figure\n",
    "plt.figure(figsize=(6,5))\n",
    "# Add title\n",
    "plt.title(\"Schools per type\")\n",
    "plt.xticks(rotation=90)\n",
    "\n",
    "ax = sns.countplot(data=schools_df, x='school_type', palette='deep', order=['Private','Public district','Public charter'])\n",
    "ax.bar_label(container=ax.containers[0], fontsize=6, padding=1)\n",
    "ax.set(ylabel = \"Count\", xlabel='')\n",
    "ax.plot()"
   ]
  },
  {
   "cell_type": "code",
   "execution_count": null,
   "metadata": {},
   "outputs": [],
   "source": [
    "# To insert a worksheet from Tableau, but it doesn't work\n",
    "from IPython.display import display, HTML\n",
    "\n",
    "# Define the URL for the Tableau JavaScript API\n",
    "TABLEAU_JS_API_URL = \"https://public.tableau.com/javascripts/api/tableau-2.min.js\"\n",
    "\n",
    "# Define the HTML code to load the Tableau JavaScript API\n",
    "TABLEAU_JS_API_HTML = f'<script src=\"{TABLEAU_JS_API_URL}\"></script>'\n",
    "\n",
    "# Define the URL for your Tableau Public visualization\n",
    "TABLEAU_PUBLIC_VIZ_URL = \"https://public.tableau.com/views/GoodSchools_16782380474230/RatingbyType?:language=en-US&publish=yes&:display_count=n&:origin=viz_share_link\"\n",
    "\n",
    "# Define the HTML code to embed the Tableau Public visualization\n",
    "TABLEAU_PUBLIC_VIZ_HTML = f'{TABLEAU_JS_API_HTML}<div class=\"tableauPlaceholder\" id=\"tableauViz\"></div><script>function initializeViz(){{var placeholderDiv=document.getElementById(\"tableauViz\");var url=\"{TABLEAU_PUBLIC_VIZ_URL}\";var options={{}};var viz= new tableau.Viz(placeholderDiv, url, options);}} initializeViz();</script>'\n",
    "\n",
    "# Display the HTML widget in your Jupyter Notebook\n",
    "display(HTML(TABLEAU_PUBLIC_VIZ_HTML))"
   ]
  },
  {
   "attachments": {},
   "cell_type": "markdown",
   "metadata": {},
   "source": [
    "After the pre-processing, we have 401 private schools and 239 public schools. We'll try to understand with further analyses why there are so many private schools included in this data set."
   ]
  },
  {
   "attachments": {},
   "cell_type": "markdown",
   "metadata": {},
   "source": [
    "### SCHOOL LEVELS"
   ]
  },
  {
   "cell_type": "code",
   "execution_count": null,
   "metadata": {},
   "outputs": [],
   "source": [
    "# How many schools per level?\n",
    "\n",
    "# Get filtered dataset with schools per level\n",
    "pre_k, elementary, middle, high = get_levels(schools_df)\n",
    "\n",
    "pre_k_count = pre_k['school_name'].count()\n",
    "elementary_count = elementary['school_name'].count()\n",
    "middle_count = middle['school_name'].count()\n",
    "high_count = high['school_name'].count()\n",
    "\n",
    "# Set the width and height of the figure\n",
    "plt.figure(figsize=(6,4))\n",
    "# Add title\n",
    "plt.title(\"How many schools per level\")\n",
    "plt.xticks(rotation=45)\n",
    "\n",
    "ax = sns.barplot(x=['pre_k','elementary','middle','high'],y=[pre_k_count,elementary_count,middle_count,high_count], palette='deep')\n",
    "ax.bar_label(container=ax.containers[0], fontsize=6, padding=1)\n",
    "ax.set(xlabel = \"Levels\", ylabel='Count')\n",
    "ax.plot()"
   ]
  },
  {
   "attachments": {},
   "cell_type": "markdown",
   "metadata": {},
   "source": [
    "There are more than double the amount of schools that contain grades 1-5 than those with grades 9-12. It would be interesting to know why the difference is so big, but we don't have information in this dataset to answer that question.\n"
   ]
  },
  {
   "attachments": {},
   "cell_type": "markdown",
   "metadata": {},
   "source": [
    "Now, let's see if the number of schools per level is similar in different cities."
   ]
  },
  {
   "cell_type": "code",
   "execution_count": null,
   "metadata": {},
   "outputs": [],
   "source": [
    "# How are the school levels distributed among the cities?\n",
    "\n",
    "# Pre-procesing to graph cities and levels together \n",
    "pre_k_sum = schools_df.groupby('city')['pre_k_school'].sum()\n",
    "elementary_sum = schools_df.groupby('city')['elementary_school'].sum()\n",
    "middle_sum = schools_df.groupby('city')['middle_school'].sum()\n",
    "high_sum = schools_df.groupby('city')['high_school'].sum()\n",
    "\n",
    "total_schools_per_city_df = pre_k_sum + elementary_sum + middle_sum + high_sum\n",
    "\n",
    "\n",
    "levels_city = []\n",
    "for city in pre_k_sum.index:\n",
    "    levels_city.append({'city': city,\n",
    "                       'perc': pre_k_sum[city],#/total_schools_per_city_df[city]*100, \n",
    "                       'level': 'Pre-K'})\n",
    "for city in elementary_sum.index:\n",
    "    levels_city.append({'city': city,\n",
    "                       'perc': elementary_sum[city],#/total_schools_per_city_df[city]*100, \n",
    "                       'level': 'Elementary School'})\n",
    "\n",
    "for city in middle_sum.index:\n",
    "    levels_city.append({'city': city,\n",
    "                       'perc': middle_sum[city],#/total_schools_per_city_df[city]*100, \n",
    "                       'level': 'Middle School'})\n",
    "\n",
    "for city in high_sum.index:\n",
    "    levels_city.append({'city': city,\n",
    "                       'perc': high_sum[city],#/total_schools_per_city_df[city]*100, \n",
    "                       'level': 'High School'})\n",
    "\n",
    "levels_city_df = pd.DataFrame(levels_city)\n",
    "\n",
    "# Plotting\n",
    "# Set the width and height of the figure\n",
    "plt.figure(figsize=(10,6))\n",
    "# Add title\n",
    "plt.title(\"Levels per city\")\n",
    "\n",
    "plt.xticks(rotation=45)\n",
    "ax = sns.barplot(x=levels_city_df['city'],y=levels_city_df['perc'], hue=levels_city_df['level'], palette='deep')\n",
    "ax.set(xlabel=\"Cities\", ylabel=\"Count\" )\n",
    "ax.plot()"
   ]
  },
  {
   "attachments": {},
   "cell_type": "markdown",
   "metadata": {},
   "source": [
    "The first thing we see is that Long Beach and Whittier have many more schools than the rest of the cities.\n",
    "\n",
    "Regarding levels, there are disparities with some cities like Bellflower, Cerritos, Cypress, Long Beach, Los Alamitos, and Santa Fe Springs having a greater number of institutions offering Pre-K and Kinder, while Downey, Lakewood, Norwalk, and Whittier have more elementary schools. What is constant in every city is that the smallest number of schools corresponds to High Schools."
   ]
  },
  {
   "cell_type": "code",
   "execution_count": null,
   "metadata": {},
   "outputs": [],
   "source": [
    "# How many private and public schools per level? \n",
    "\n",
    "# Get filtered dataset with schools per level\n",
    "pre_k_df, elementary_df, middle_df, high_df = get_levels(schools_df)\n",
    "\n",
    "# Initialise the subplot function using number of rows and columns\n",
    "fig, axes = plt.subplots(2, 2, figsize=(9,8))\n",
    "\n",
    "fig.suptitle('School Type per Level')\n",
    "#plt.yticks([100,200,300])\n",
    "#plt.yticks(['50','100','150','200','250','300'])\n",
    "\n",
    "\n",
    "sns.countplot(ax=axes[0, 0],data=pre_k_df,      x='school_type', palette='deep', order=['Private','Public district','Public charter'])\n",
    "sns.countplot(ax=axes[0, 1],data=elementary_df, x='school_type', palette='deep', order=['Private','Public district','Public charter'])\n",
    "sns.countplot(ax=axes[1, 0],data=middle_df,     x='school_type', palette='deep', order=['Private','Public district','Public charter'])\n",
    "sns.countplot(ax=axes[1, 1],data=high_df,       x='school_type', palette='deep', order=['Private','Public district','Public charter'])\n",
    "\n",
    "\n",
    "mult_plot(axes[0,0],'Pre-K')\n",
    "mult_plot(axes[0,1],'Elementary School')\n",
    "mult_plot(axes[1,0],'Middle School')\n",
    "mult_plot(axes[1,1],'High School')\n",
    "\n",
    "plt.show()"
   ]
  },
  {
   "attachments": {},
   "cell_type": "markdown",
   "metadata": {},
   "source": [
    "It is surprising to see that there are more private schools in every level, but in elementary. However, it is not unexpected to see that all Preschools are private, since this grade is not included in the public school system.\n",
    "\n",
    "Bare in mind that it is not possible to sum the schools per type in every level, since each school might include grades from more than one level. "
   ]
  },
  {
   "attachments": {},
   "cell_type": "markdown",
   "metadata": {},
   "source": [
    "### SCHOOL SIZE BASED ON TOTAL NUMBER OF STUDENTS"
   ]
  },
  {
   "cell_type": "code",
   "execution_count": null,
   "metadata": {},
   "outputs": [],
   "source": [
    "# Create separate dataframes for Private and Public schools\n",
    "public_s_df = schools_df.loc[(schools_df['school_type'] == 'Public district') | (schools_df['school_type'] == 'Public charter')]\n",
    "private_s_df = schools_df.loc[(schools_df['school_type'] == 'Private')]"
   ]
  },
  {
   "cell_type": "code",
   "execution_count": null,
   "metadata": {},
   "outputs": [],
   "source": [
    "# Missing values in school_total_students\n",
    "print(\"Missing values in school_total_students for public schools:\", public_s_df['school_total_students'].isnull().sum(),\"\\n\"\n",
    "      \"Missing values in school_total_students for private schools:\", private_s_df['school_total_students'].isnull().sum()) \n"
   ]
  },
  {
   "attachments": {},
   "cell_type": "markdown",
   "metadata": {},
   "source": [
    "The value is missing mostly in Private schools."
   ]
  },
  {
   "cell_type": "code",
   "execution_count": null,
   "metadata": {},
   "outputs": [],
   "source": [
    "# Plot distribution of 'school_total_students'\n",
    "total_students_w_data = schools_df.loc[(schools_df['school_total_students'] != 0) & (~schools_df['school_total_students'].isnull()) & (schools_df['school_type'] != 'Public charter')]\n",
    "\n",
    "# convert the data into a long format\n",
    "melted_data = pd.melt(total_students_w_data, id_vars='school_type', value_vars='school_total_students')\n",
    "\n",
    "plt.xlabel('Number of students')\n",
    "plt.suptitle('Schools by size')\n",
    "ax = sns.histplot(data=melted_data, x='value', kde=False, binwidth=173, hue='school_type', multiple='stack', hue_order=['Private','Public district'], palette={'Private':'#FF884D','Public district':'#005580'}) #,palette=['blue','orange','green']\n",
    "ax.plot()"
   ]
  },
  {
   "cell_type": "code",
   "execution_count": null,
   "metadata": {},
   "outputs": [],
   "source": [
    "# Descriptive statistics\n",
    "print(schools_df['school_total_students'].describe())"
   ]
  },
  {
   "attachments": {},
   "cell_type": "markdown",
   "metadata": {},
   "source": [
    "There is data of total students for 375 schools. \n",
    "\n",
    "As we see in the plot of the distribution of schools by size, and the descriptive statistics, the feature school_total_students corresponds to a positively skewed distribution with a mean of 558.85 students, a std of 643.01 (very spread out), and a median of 414. The IQR is 565, with a 75% quartile=706.5, and a large number of outliers.\n",
    "\n"
   ]
  },
  {
   "cell_type": "code",
   "execution_count": null,
   "metadata": {},
   "outputs": [],
   "source": [
    "# Does the size of the school varies in private and public schools? Is the rating correlated to the size of the school?\n",
    "\n",
    "plt.figure(figsize=(15,5))\n",
    "plt.suptitle('School size in Private v Public Schools')\n",
    "\n",
    "ax = sns.stripplot(x=schools_df['school_total_students'], y=schools_df['school_type'], hue=schools_df['school_rating'], jitter=True)\n",
    "#sns.violinplot(ax=axes[1],x=private_s_df['school_total_students'])\n",
    "\n",
    "ax.set(xlabel=\"Number of students\", ylabel=\"School Type\", xticks=np.arange(0, 4500, step=250))\n",
    "ax.plot()\n"
   ]
  },
  {
   "cell_type": "code",
   "execution_count": null,
   "metadata": {},
   "outputs": [],
   "source": [
    "# Statistics for private and public schools\n",
    "print(\"Private schools:\\n\",\n",
    "      \"Mean\", round(private_s_df['school_total_students'].mean(),2), \"\\n\",\n",
    "      \"St Dev\", round(private_s_df['school_total_students'].std(),2), \"\\n\")\n",
    "print(\"Public schools:\\n\",\n",
    "      \"Mean\", round(public_s_df['school_total_students'].mean(),2), \"\\n\",\n",
    "      \"St Dev\", round(public_s_df['school_total_students'].std(),2), \"\\n\")"
   ]
  },
  {
   "attachments": {},
   "cell_type": "markdown",
   "metadata": {},
   "source": [
    "We can see that all private schools are Unrated, so we can get any conclusions about size impacting rating. However, we visualize that private schools are much less dispersed than public schools in regards to size, with a mean of 163.61 and a St Dev of 194.36. \n",
    "\n",
    "School size for public district schools is more spreaded, with a mean of 794.32 students and St Dev of 699.47. It is hard to observe if the total number of students of the school have impact in the school rating, so we will try generating a plot based only on ratings of public schools. "
   ]
  },
  {
   "cell_type": "code",
   "execution_count": null,
   "metadata": {},
   "outputs": [],
   "source": [
    "# Is the rating correlated to school size in public schools?\n",
    "\n",
    "plt.figure(figsize=(13,4))\n",
    "plt.suptitle('Public schools: school size vs rating')\n",
    "plt.xticks(rotation=0)\n",
    "rating_order = ['10','9','8','7','6','5','4','3','2','1','Unrated']\n",
    "\n",
    "ax = sns.swarmplot(x=public_s_df['school_total_students'], y=public_s_df['school_rating'], hue=public_s_df['school_rating'], order=rating_order, hue_order=rating_order, legend=False, size=2.5)\n",
    "#sns.violinplot(ax=axes[1],x=private_s_df['school_total_students'])\n",
    "\n",
    "ax.set(xlabel=\"Number of students\", ylabel=\"Rating\", xticks=np.arange(0, 4500, step=250))\n",
    "ax.plot()"
   ]
  },
  {
   "attachments": {},
   "cell_type": "markdown",
   "metadata": {},
   "source": [
    "Visualy, we cannot see a correlation between the rating and the size of the school.\n",
    "\n",
    "Let's see if the total number of students vary in function of the school grades included."
   ]
  },
  {
   "cell_type": "code",
   "execution_count": null,
   "metadata": {},
   "outputs": [],
   "source": [
    "# How does the school size changes in relation to the grades included in the institution?\n",
    "\n",
    "# Get filtered dataset with schools per level\n",
    "pre_k_df, elementary_df, middle_df, high_df = get_levels(schools_df)\n",
    "plt.figure(figsize=(10,4))\n",
    "plt.suptitle('School size per Level')\n",
    "plt.xlabel(\"Total Students\")\n",
    "#x-axis ranges from -3 and 3 with .001 steps\n",
    "plt.xlim(0, 5000)\n",
    "plt.xticks(np.arange(0, 4500, step=250))\n",
    "#pdf = stats.norm.pdf(pre_k_df['school_total_students'], pre_k_df['school_total_students'].mean(), pre_k_df['school_total_students'].std())\n",
    "sns.kdeplot(x=pre_k_df['school_total_students'], label = 'Pre-K')\n",
    "sns.kdeplot(x=elementary_df['school_total_students'], label='Elementary School')\n",
    "sns.kdeplot(x=middle_df['school_total_students'], label='Middle School')\n",
    "sns.kdeplot(x=high_df['school_total_students'], label='High School')\n",
    "\n",
    "plt.legend()\n",
    "plt.show()"
   ]
  },
  {
   "cell_type": "code",
   "execution_count": null,
   "metadata": {},
   "outputs": [],
   "source": [
    "# Statistics for private and public schools\n",
    "print(\"Pre-K schools:\\n\",\n",
    "      \"Mean\", round(pre_k_df['school_total_students'].mean(),2), \"\\n\",\n",
    "      \"St Dev\", round(pre_k_df['school_total_students'].std(),2))\n",
    "print(\"Elementary schools:\\n\",\n",
    "      \"Mean\", round(elementary_df['school_total_students'].mean(),2), \"\\n\",\n",
    "      \"St Dev\", round(elementary_df['school_total_students'].std(),2))\n",
    "print(\"Middle schools:\\n\",\n",
    "      \"Mean\", round(middle_df['school_total_students'].mean(),2), \"\\n\",\n",
    "      \"St Dev\", round(middle_df['school_total_students'].std(),2))\n",
    "print(\"High schools:\\n\",\n",
    "      \"Mean\", round(high_df['school_total_students'].mean(),2), \"\\n\",\n",
    "      \"St Dev\", round(high_df['school_total_students'].std(),2))"
   ]
  },
  {
   "attachments": {},
   "cell_type": "markdown",
   "metadata": {},
   "source": [
    "Because schools can have more than one level, and we only have the total amount of students of the school (not per level), the curve for each level is not independent from other levels.\n",
    "\n",
    "All of the distributions are positively skewed. However, we can observe that the pre-k distribution is leptokurtic with most schools having less than 250 students, while the high schools distribution is platykurtic."
   ]
  },
  {
   "attachments": {},
   "cell_type": "markdown",
   "metadata": {},
   "source": [
    "### SCHOOL RATING\n",
    "\n",
    "We are interested in the school rating, because it will be one of the key features in the selection of possible schools."
   ]
  },
  {
   "cell_type": "code",
   "execution_count": null,
   "metadata": {},
   "outputs": [],
   "source": [
    "# School rating distribution for all schools\n",
    "\n",
    "# Add title\n",
    "plt.title(\"Distribution of school ratings for all schools\")\n",
    "rating_order = ['Unrated','1','2','3','4','5','6','7','8','9','10']\n",
    "ax = sns.countplot(data=schools_df,x='school_rating', order=rating_order, palette={'Unrated':'#FF884D','1':'#005580','2':'#005580','3':'#005580','4':'#005580','5':'#005580','6':'#005580','7':'#005580','8':'#005580','9':'#005580','10':'#005580'} )\n",
    "#schools_df.groupby(\"school_rating\")[\"school_name\"].count().plot.pie(figsize=(6,6), autopct='%1.1f%%', fontsize=6.8,label=\"\", colormap='PuBu', pctdistance=0.75)\n",
    "ax.set(xlabel='Rating', ylabel='Count')\n",
    "ax.plot()\n",
    "#plt.show()"
   ]
  },
  {
   "attachments": {},
   "cell_type": "markdown",
   "metadata": {},
   "source": [
    "It seems that although school_rating doesn't have missing values, most schools are 'Unrated'. In fact, we already know from previous plots that all private schools are.\n",
    "\n",
    "Let's disregard Unrated schools and analyze the rating composition of the rated schools."
   ]
  },
  {
   "cell_type": "code",
   "execution_count": null,
   "metadata": {},
   "outputs": [],
   "source": [
    "# Rating distribution for rated schools\n",
    "\n",
    "rated_df = schools_df.loc[schools_df['school_rating'] != 'Unrated']\n",
    "\n",
    "# Add title\n",
    "plt.title(\"Distribution of school ratings for all schools\")\n",
    "rating_order = ['1','2','3','4','5','6','7','8','9','10']\n",
    "ax = sns.countplot(data=rated_df,x='school_rating', order=rating_order, color='#005580') #, palette='Blue',\n",
    "#rated_df.groupby(\"school_rating\")[\"school_name\"].count().plot.pie(figsize=(6,6),autopct='%1.1f%%',fontsize=6.8,label=\"\", colormap='PuBu', pctdistance=0.75)\n",
    "#ax.set(xlabel='Rating', ylabel='Count')\n",
    "ax.bar_label(container=ax.containers[0], fontsize=6, padding=1)\n",
    "ax.plot()\n",
    "#plt.show()"
   ]
  },
  {
   "attachments": {},
   "cell_type": "markdown",
   "metadata": {},
   "source": [
    "\n",
    "\n",
    "Of the rated schools, the most predominant value is 5, and the ratings seem follow a somewhat Normal distribution. \n",
    "\n",
    "Now, let's try to visualize if the ratings are similar among different school levels.\n"
   ]
  },
  {
   "cell_type": "code",
   "execution_count": null,
   "metadata": {},
   "outputs": [],
   "source": [
    "# Rating per level\n",
    "\n",
    "# Get filtered dataset with schools per level\n",
    "pre_k_df, elementary_df, middle_df, high_df = get_levels(schools_df)\n",
    "\n",
    "# Initialise the subplot function using number of rows and columns\n",
    "fig, axes = plt.subplots(2, 2, figsize=(10,7))\n",
    "\n",
    "fig.suptitle('School Ratings per Level')\n",
    "\n",
    "rating_order = ['Unrated', '1','2','3','4','5','6','7','8','9','10']\n",
    "\n",
    "#pre_k_df.groupby(\"school_rating\")[\"school_name\"].count().plot.pie(ax=axes[0, 0],figsize=(10,10),autopct='%1.1f%%',fontsize=7) #autopct='%1.1f%%',\n",
    "#elementary_df.groupby(\"school_rating\")[\"school_name\"].count().plot.pie(ax=axes[0,1],figsize=(10,10),autopct='%1.1f%%',fontsize=7)\n",
    "#middle_df.groupby(\"school_rating\")[\"school_name\"].count().plot.pie(ax=axes[1,0],figsize=(10,10),autopct='%1.1f%%',fontsize=7)\n",
    "#high_df.groupby(\"school_rating\")[\"school_name\"].count().plot.pie(ax=axes[1,1],figsize=(10,10),autopct='%1.1f%%',fontsize=7)\n",
    "\n",
    "sns.countplot(ax=axes[0, 0],data=pre_k_df,      x='school_rating',  order=rating_order, palette={'Unrated':'#FF884D','1':'#005580','2':'#005580','3':'#005580','4':'#005580','5':'#005580','6':'#005580','7':'#005580','8':'#005580','9':'#005580','10':'#005580'} ) #palette='flare'\n",
    "sns.countplot(ax=axes[0, 1],data=elementary_df, x='school_rating',  order=rating_order, palette={'Unrated':'#FF884D','1':'#005580','2':'#005580','3':'#005580','4':'#005580','5':'#005580','6':'#005580','7':'#005580','8':'#005580','9':'#005580','10':'#005580'})\n",
    "sns.countplot(ax=axes[1, 0],data=middle_df,     x='school_rating',  order=rating_order, palette={'Unrated':'#FF884D','1':'#005580','2':'#005580','3':'#005580','4':'#005580','5':'#005580','6':'#005580','7':'#005580','8':'#005580','9':'#005580','10':'#005580'})\n",
    "sns.countplot(ax=axes[1, 1],data=high_df,       x='school_rating',  order=rating_order, palette={'Unrated':'#FF884D','1':'#005580','2':'#005580','3':'#005580','4':'#005580','5':'#005580','6':'#005580','7':'#005580','8':'#005580','9':'#005580','10':'#005580'})\n",
    "\n",
    "mult_plot(axes[0,0],'Pre-K')\n",
    "mult_plot(axes[0,1],'Elementary School')\n",
    "mult_plot(axes[1,0],'Middle School')\n",
    "mult_plot(axes[1,1],'High School')\n",
    "\n",
    "plt.show()"
   ]
  },
  {
   "attachments": {},
   "cell_type": "markdown",
   "metadata": {},
   "source": [
    "Excluding the Unrated values, we can observe that the most common rating is 5 in every level, and that greatest number of schools rated 10 are High Schools. However, also in High Schools we find the majority of the schools that have been rated 2."
   ]
  },
  {
   "attachments": {},
   "cell_type": "markdown",
   "metadata": {},
   "source": [
    "### TEST SCORES"
   ]
  },
  {
   "cell_type": "code",
   "execution_count": null,
   "metadata": {},
   "outputs": [],
   "source": [
    "# Filter data set to obtain schools with test scores in every subject and obtain descriptive statistics\n",
    "schools_w_tests = schools_df.loc[~((schools_df['Math'].isnull()) | (schools_df['Science'].isnull()) | (schools_df['English'].isnull()) )]\n",
    "schools_w_tests[['Math','Science','English']].describe()"
   ]
  },
  {
   "attachments": {},
   "cell_type": "markdown",
   "metadata": {},
   "source": [
    "ANALYZE THE RELATIONSHIP BETWEEN TEST SCORES AND RATING"
   ]
  },
  {
   "cell_type": "code",
   "execution_count": null,
   "metadata": {},
   "outputs": [],
   "source": [
    "# Keep schools with test scores and rating\n",
    "schools_w_tests = schools_w_tests.loc[(schools_w_tests['school_rating'] != 'Unrated')]\n"
   ]
  },
  {
   "cell_type": "code",
   "execution_count": null,
   "metadata": {},
   "outputs": [],
   "source": [
    "# Is school ranking correlated to the Math score?\n",
    "plt.figure(figsize=(13,4))\n",
    "plt.suptitle('Is school ranking correlated to the Math score?')\n",
    "rating_order = ['10','9','8','7','6','5','4','3','2','1']\n",
    "\n",
    "ax = sns.swarmplot(x=schools_w_tests['Math'], y=schools_w_tests['school_rating'],  order=rating_order, legend=False, size=2.5) #hue=schools_w_tests['school_rating'],hue_order=rating_order,\n",
    "#sns.violinplot(ax=axes[1],x=private_s_df['school_total_students'])\n",
    "\n",
    "ax.set(xlabel=\"Math\", ylabel=\"Rating\", ) #xticks=np.arange(0, 100, step=10)\n",
    "ax.plot()"
   ]
  },
  {
   "attachments": {},
   "cell_type": "markdown",
   "metadata": {},
   "source": [
    "From the scatterplot, it appears that it exists a positive correlation between the test score obtained in Math and the rating of the school. We will run a Pearson Correlation Test to validate."
   ]
  },
  {
   "cell_type": "code",
   "execution_count": null,
   "metadata": {},
   "outputs": [],
   "source": [
    "# Run a Pearson Correlation Test between school_rating and Math score\n",
    "f_statistic, p_value = scipy.stats.pearsonr(schools_w_tests['Math'],pd.to_numeric(schools_w_tests['school_rating']))\n",
    "print(\"F_Statistic: {0},P-Value: {1}\".format(f_statistic, p_value))"
   ]
  },
  {
   "attachments": {},
   "cell_type": "markdown",
   "metadata": {},
   "source": [
    "Our Null Hypothesis: There is no association between the score obtained in Math and the rating of the school.\n",
    "\n",
    "Since the p-value < 0.05, we reject the Null hypothesis and conclude that there exists a relationship between Math score and school rating. Since the correlation coeficient value is 0.88 (very close to 1), it shows a strong positive relationship."
   ]
  },
  {
   "cell_type": "code",
   "execution_count": null,
   "metadata": {},
   "outputs": [],
   "source": [
    "# Another option would have been to run a regression in place of correlation, which we can see obtains very similar results \n",
    "# X is the input variables (or independent variables)\n",
    "X = schools_w_tests[['Math']]\n",
    "# y is the target/dependent variable\n",
    "y = pd.to_numeric(schools_w_tests['school_rating'])\n",
    "# add an intercept (beta_0) to our model\n",
    "X = sm.add_constant(X)\n",
    "\n",
    "model = sm.OLS(y, X).fit()\n",
    "predictions = model.predict(X)\n",
    "\n",
    "#print out the statistics\n",
    "model.summary()"
   ]
  },
  {
   "cell_type": "code",
   "execution_count": null,
   "metadata": {},
   "outputs": [],
   "source": [
    "# Is the ranking correlated to the Science score?\n",
    "plt.figure(figsize=(13,4))\n",
    "plt.suptitle('Is the ranking correlated to the Science score')\n",
    "plt.xticks(rotation=0)\n",
    "rating_order = ['10','9','8','7','6','5','4','3','2','1']\n",
    "\n",
    "ax = sns.swarmplot(x=schools_w_tests['Science'], y=schools_w_tests['school_rating'],  order=rating_order, legend=False, size=2.5) #hue=schools_w_tests['school_rating'],hue_order=rating_order,\n",
    "#sns.violinplot(ax=axes[1],x=private_s_df['school_total_students'])\n",
    "\n",
    "ax.set(xlabel=\"Science\", ylabel=\"Rating\", ) #xticks=np.arange(0, 100, step=10)\n",
    "ax.plot()"
   ]
  },
  {
   "cell_type": "code",
   "execution_count": null,
   "metadata": {},
   "outputs": [],
   "source": [
    "# Run a Pearson Correlation Test between school_rating and Science score\n",
    "f_statistic, p_value = scipy.stats.pearsonr(schools_w_tests['Science'],pd.to_numeric(schools_w_tests['school_rating']))\n",
    "print(\"F_Statistic: {0},P-Value: {1}\".format(f_statistic, p_value))"
   ]
  },
  {
   "attachments": {},
   "cell_type": "markdown",
   "metadata": {},
   "source": [
    "Our Null Hypothesis: There is no association between the score obtained in Science and the rating of the school.\n",
    "\n",
    "Since the p-value < 0.05, we reject the Null hypothesis and conclude that there exists a relationship between Science score and school rating. Since the correlation coeficient value is 0.87 (very close to 1), it shows a strong positive relationship, which is what we can see in the scatterplot.\n",
    "\n",
    "Lastly, let's evaluate the correlation between English score and school rating."
   ]
  },
  {
   "cell_type": "code",
   "execution_count": null,
   "metadata": {},
   "outputs": [],
   "source": [
    "# Is the ranking correlated to the English score?\n",
    "plt.figure(figsize=(13,4))\n",
    "plt.suptitle('Is the ranking correlated to the English score')\n",
    "plt.xticks(rotation=0)\n",
    "rating_order = ['10','9','8','7','6','5','4','3','2','1']\n",
    "\n",
    "ax = sns.swarmplot(x=schools_w_tests['English'], y=schools_w_tests['school_rating'], order=rating_order, legend=False, size=2.5) #, hue=schools_w_tests['school_rating'],hue_order=rating_order\n",
    "#sns.violinplot(ax=axes[1],x=private_s_df['school_total_students'])\n",
    "\n",
    "ax.set(xlabel=\"English\", ylabel=\"Rating\", ) #xticks=np.arange(0, 100, step=10)\n",
    "ax.plot()"
   ]
  },
  {
   "cell_type": "code",
   "execution_count": null,
   "metadata": {},
   "outputs": [],
   "source": [
    "# Run a Pearson Correlation Test between school_rating and Science score\n",
    "f_statistic, p_value = scipy.stats.pearsonr(schools_w_tests['English'],pd.to_numeric(schools_w_tests['school_rating']))\n",
    "print(\"F_Statistic: {0},P-Value: {1}\".format(f_statistic, p_value))"
   ]
  },
  {
   "attachments": {},
   "cell_type": "markdown",
   "metadata": {},
   "source": [
    "Our Null Hypothesis: There is no association between the score obtained in English and the rating of the school.\n",
    "\n",
    "Since the p-value < 0.05, we reject the Null hypothesis and conclude that there exists a relationship between English score and school rating. Since the correlation coeficient value is 0.92 (very close to 1 and the largest coeficient of the three subjects), it shows a strong positive relationship, which we can observe in the scatterplot.\n",
    "\n",
    "Up to this point, the best predictors of the school raking are the school test scores."
   ]
  },
  {
   "attachments": {},
   "cell_type": "markdown",
   "metadata": {},
   "source": [
    "### CITY"
   ]
  },
  {
   "cell_type": "code",
   "execution_count": null,
   "metadata": {},
   "outputs": [],
   "source": [
    "# How are public and private schools distributed among the different cities?\n",
    "\n",
    "# Set the width and height of the figure\n",
    "plt.figure(figsize=(6,5))\n",
    "# Add title\n",
    "plt.title(\"Schools per city\")\n",
    "plt.xticks(rotation=90)\n",
    "ax = sns.countplot(y=schools_df['city'], hue=schools_df['school_type'], palette='dark:#5A9_r')\n",
    "\n",
    "ax.set(ylabel = \"Cities\", xlabel='Schools')\n",
    "ax.plot()"
   ]
  },
  {
   "attachments": {},
   "cell_type": "markdown",
   "metadata": {},
   "source": [
    "As seen in a previous plot, Long Beach and Whittier are the cities with more schools. \n",
    "\n",
    "Lakewood is the only one where the are more public than private schools, where as Long Beach, Bellflower, and Cypress have more than double the amount of private over public schools. Also, Long Beach is the only city where charter schools are present.\n",
    "\n",
    "It is surprinsing to see that almost every city have more private schools, so let's deep dive and see how the distribution changes if we remove the institutions that have only PK or PK-K grades, which we know to be all private. "
   ]
  },
  {
   "cell_type": "code",
   "execution_count": null,
   "metadata": {},
   "outputs": [],
   "source": [
    "# School distribution per cities (without schools that are only Pre-ks because all of them are Private)\n",
    "\n",
    "# Remove schools that are only Preschools because they are all private\n",
    "aux = schools_df.loc[~((schools_df['pre_k_school'] == True) & (schools_df['elementary_school'] == False))]\n",
    "# Set the width and height of the figure\n",
    "plt.figure(figsize=(6,5))\n",
    "# Add title\n",
    "plt.title(\"Schools per city (Grades K-12)\")\n",
    "plt.xticks(rotation=90)\n",
    "ax = sns.countplot(y=aux['city'], hue=aux['school_type'], palette='dark:#5A9_r')\n",
    "ax.set(ylabel = \"Cities\", xlabel='Schools')\n",
    "ax.plot()"
   ]
  },
  {
   "attachments": {},
   "cell_type": "markdown",
   "metadata": {},
   "source": [
    "The plot changes a lot. Now, we visualize that all cities except for Bellflower have more public than private schools. "
   ]
  },
  {
   "cell_type": "code",
   "execution_count": null,
   "metadata": {},
   "outputs": [],
   "source": [
    "# How does the rating vary per city?\n",
    "aux = schools_df.loc[schools_df['school_rating'] != 'Unrated'].copy()\n",
    "aux['school_rating']= aux['school_rating'].apply(lambda x: pd.to_numeric(x))\n",
    "grouped_df = aux.groupby(['city'])['school_rating'].describe()\n",
    "grouped_df.sort_values(by='mean',ascending=False)"
   ]
  },
  {
   "cell_type": "code",
   "execution_count": null,
   "metadata": {},
   "outputs": [],
   "source": [
    "# School rating per cities\n",
    "aux = schools_df.loc[schools_df['school_rating'] != 'Unrated'].copy()\n",
    "aux['school_rating'] = pd.to_numeric(aux['school_rating'])\n",
    "plt.figure(figsize=(13,5))\n",
    "plt.suptitle('Public schools: How does the rating vary per city?')\n",
    "plt.xticks(rotation=0)\n",
    "rating_order = ['10','9','8','7','6','5','4','3','2','1']\n",
    "\n",
    "ax = sns.boxplot(x=aux['city'], y=aux['school_rating']) #hue=schools_df['school_rating'],hue_order=rating_order, order=rating_order,,  size=2.5\n",
    "#sns.violinplot(ax=axes[1],x=private_s_df['school_total_students'])\n",
    "\n",
    "ax.set(xlabel=\"\", ylabel=\"Rating\", ) #xticks=np.arange(0, 100, step=10)\n",
    "ax.plot()"
   ]
  },
  {
   "attachments": {},
   "cell_type": "markdown",
   "metadata": {},
   "source": [
    "It is clear that some cities like Los Alamitos, Cypress, and Cerritos have better ratings throughout their public school system (remember that private schools didn't have ratings in this data set). "
   ]
  },
  {
   "cell_type": "code",
   "execution_count": null,
   "metadata": {},
   "outputs": [],
   "source": [
    "# What are the average test scores per city?\n",
    "schools_w_tests = schools_df.loc[~((schools_df['Math'].isnull()) | (schools_df['Science'].isnull()) | (schools_df['English'].isnull()) )]\n",
    "grouped_df = schools_w_tests.groupby(['city'])[['English','Math','Science']].agg([np.mean, np.std]) \n",
    "grouped_df.sort_values(by=[('English','mean')],ascending=False)"
   ]
  },
  {
   "attachments": {},
   "cell_type": "markdown",
   "metadata": {},
   "source": [
    "We already know the test scores are positively correlated to the ratings, so it is expected to see this result where the first three cities with the best scores coincide with the first three with best rating. There are some small disparities in the middle of the table, but the overall result is similar to the one of ratings."
   ]
  },
  {
   "attachments": {},
   "cell_type": "markdown",
   "metadata": {},
   "source": [
    "#### Visualizing schools in a map"
   ]
  },
  {
   "attachments": {},
   "cell_type": "markdown",
   "metadata": {},
   "source": [
    "Let's see how are the schools distributed in a map of the area."
   ]
  },
  {
   "cell_type": "code",
   "execution_count": null,
   "metadata": {},
   "outputs": [],
   "source": [
    "# Plot schools Geopoints in a map\n",
    "# using folium library, using leaflet.js to create a typical map on the top of OpenStreetMap\n",
    "\n",
    "# Keep only schools with lat, lon data\n",
    "school_w_address = schools_df.loc[~schools_df['lat'].isnull()]\n",
    "\n",
    "fig = Figure(width=600, height=400)\n",
    "\n",
    "# Create a map object and center it to the avarage coordinates to m\n",
    "m = folium.Map(location=school_w_address[[\"lat\", \"lon\"]].mean().to_list(), zoom_start=10.5, width='100%', height='100%')\n",
    "\n",
    "# if the points are too close to each other, cluster them, create a cluster overlay with MarkerCluster, add to m\n",
    "marker_cluster = MarkerCluster().add_to(m)\n",
    "\n",
    "# draw the markers and assign popup and hover texts\n",
    "# add the markers the the cluster layers so that they are automatically clustered\n",
    "for i,r in school_w_address.iterrows():\n",
    "    location = (r[\"lat\"], r[\"lon\"])\n",
    "    concat_tooltip = str(r['school_name'])+ \" \" + str(r['school_rating'])\n",
    "    folium.Marker(location=location,\n",
    "                  popup = r['school_name'],\n",
    "                  tooltip=concat_tooltip)\\\n",
    "    .add_to(marker_cluster)\n",
    "# display the map\n",
    "#m\n",
    "fig.add_child(m)\n",
    "\n",
    "#map1 = folium.Map(\n",
    "#    location=[59.338315,18.089960],\n",
    "#    tiles='cartodbpositron',\n",
    "#    zoom_start=12,\n",
    "#)\n",
    "#df.apply(lambda row:folium.CircleMarker(location=[row[\"latitude\"], row[\"longitude\"]]).add_to(map1), axis=1)\n",
    "#map1"
   ]
  },
  {
   "attachments": {},
   "cell_type": "markdown",
   "metadata": {},
   "source": [
    "### STUDENT TEACHER RATIO"
   ]
  },
  {
   "cell_type": "code",
   "execution_count": null,
   "metadata": {},
   "outputs": [],
   "source": [
    "# Values in school_teacher_ratio feature\n",
    "schools_df['school_teacher_ratio'].unique()"
   ]
  },
  {
   "cell_type": "code",
   "execution_count": null,
   "metadata": {},
   "outputs": [],
   "source": [
    "# Check if Private schools have information about student-teacher ratio\n",
    "private_s_df = schools_df.loc[(schools_df['school_type'] == 'Private')]\n",
    "private_s_df['school_teacher_ratio'].unique()"
   ]
  },
  {
   "attachments": {},
   "cell_type": "markdown",
   "metadata": {},
   "source": [
    "Because the teacher-student ratio is 'Unknown' for every private school, we'll proceed to explore public schools only."
   ]
  },
  {
   "cell_type": "code",
   "execution_count": null,
   "metadata": {},
   "outputs": [],
   "source": [
    "# What is the Teacher-student Ratio for Public Schools?\n",
    "public_s_df = schools_df.loc[(schools_df['school_type'] == 'Public district') | (schools_df['school_type'] == 'Public charter') ]\n",
    "\n",
    "# Add title\n",
    "plt.title(\"Student-Teacher ratio in Public Schools\")\n",
    "plt.xticks(rotation=90)\n",
    "\n",
    "ratio_order = ['Unknown','<10','10-15','16-20','21-30','30+']\n",
    "ax = sns.countplot(data=public_s_df, x='ratio_bins', color='Blue',  order=ratio_order, palette='dark:#5A9_r')\n",
    "ax.set(xlabel='', ylabel='Count')\n",
    "ax.plot()"
   ]
  },
  {
   "attachments": {},
   "cell_type": "markdown",
   "metadata": {},
   "source": [
    "The great majority of public schools have a student-teacher ratio of 21 to 30."
   ]
  },
  {
   "attachments": {},
   "cell_type": "markdown",
   "metadata": {},
   "source": [
    "### SCHOOL DISTRICTS"
   ]
  },
  {
   "cell_type": "code",
   "execution_count": null,
   "metadata": {},
   "outputs": [],
   "source": [
    "# What are the school districts per city and how many schools are included in each one?\n",
    "public_s_df   = schools_df.loc[schools_df['school_type'] != 'Private']\n",
    "grouped_df = public_s_df.groupby(['city','school_district'])['school_name'].agg([len])\n",
    "grouped_df.rename(columns={'len':'count'}, inplace=True)\n",
    "#pd.set_option('display.max_rows', 500)\n",
    "grouped_df\n"
   ]
  },
  {
   "cell_type": "code",
   "execution_count": null,
   "metadata": {},
   "outputs": [],
   "source": [
    "# What is the average rating per school district?\n",
    "public_s_df = public_s_df.loc[public_s_df['school_rating'] != 'Unrated']\n",
    "public_s_df['school_rating'] = public_s_df['school_rating'].apply(lambda x: pd.to_numeric(x))\n",
    "grouped_df = public_s_df.groupby(public_s_df['school_district'])['school_rating'].agg([np.mean, np.std, min, max, len]) #.apply(lambda x: round(x))\n",
    "grouped_df.rename(columns={'mean':'avg_rating', 'len':'number_schools'}, inplace=True)\n",
    "grouped_df.sort_values(by='avg_rating',ascending=False)"
   ]
  },
  {
   "attachments": {},
   "cell_type": "markdown",
   "metadata": {},
   "source": [
    "## FINDING GOOD SCHOOLS"
   ]
  },
  {
   "attachments": {},
   "cell_type": "markdown",
   "metadata": {},
   "source": [
    "We are interested in public elementary schools with a rating of 7+ and a demographic composition of at least 25% Hispanics, but not more than 70% (we want out etniticy to be represented, but also appreciate cultural diversity) that are close to a specific location."
   ]
  },
  {
   "cell_type": "code",
   "execution_count": null,
   "metadata": {},
   "outputs": [],
   "source": [
    "# Join schools_df with demographics_df\n",
    "schools_df = schools_df.merge(demo_df, how='left', on='school_name') \n",
    "schools_df.columns"
   ]
  },
  {
   "cell_type": "code",
   "execution_count": null,
   "metadata": {},
   "outputs": [],
   "source": [
    "# Filter schools based on chosen criteria\n",
    "good_schools_df = pd.DataFrame()\n",
    "# Get only public schools\n",
    "public_s_df = schools_df.loc[(schools_df['school_type'] == 'Public district') | (schools_df['school_type'] == 'Public charter') ].copy()\n",
    "\n",
    "# Get schools elementary schools with rating of +7 and a Hispanic group of at least 25% and no more than 70%\n",
    "good_schools_df = public_s_df.loc[public_s_df['school_rating'] != 'Unrated'].copy()\n",
    "good_schools_df['school_rating'] = good_schools_df['school_rating'].apply(lambda x: pd.to_numeric(x))\n",
    "good_schools_df = good_schools_df.loc[(good_schools_df['school_rating'] >= 7) & (good_schools_df['elementary_school'] == True) & (good_schools_df['Hispanic'] >= '25%') & (good_schools_df['Hispanic'] <= '70%')]"
   ]
  },
  {
   "cell_type": "code",
   "execution_count": null,
   "metadata": {},
   "outputs": [],
   "source": [
    "# Get schools close to a relevant point (for example Granma's house)\n",
    "\n",
    "good_schools_df['coord'] = list(zip(good_schools_df['lat'], good_schools_df['lon']))\n",
    "# Define point\n",
    "important_location = (33.909280, -118.100470)\n",
    "\n",
    "def distanc(row):\n",
    "    row['dist'] = geopy.distance.geodesic(important_location, row['coord']).miles\n",
    "\n",
    "    return row\n",
    "\n",
    "#good_schools_df['gdf'] = geopandas.GeoDataFrame(good_schools_df,geometry=geopandas.points_from_xy(good_schools_df['lat'],good_schools_df['lon']))\n",
    "good_schools_df = good_schools_df.apply(distanc, axis='columns') \n",
    "\n",
    "good_schools_df = good_schools_df.loc[good_schools_df['dist'] < 5]"
   ]
  },
  {
   "cell_type": "code",
   "execution_count": null,
   "metadata": {},
   "outputs": [],
   "source": [
    "# Number of interesting schools\n",
    "print(\"Number of good schools to analyze:\",good_schools_df.shape[0])"
   ]
  },
  {
   "cell_type": "code",
   "execution_count": null,
   "metadata": {},
   "outputs": [],
   "source": [
    "# Plot good schools in the map\n",
    "# Keep only schools with lat, lon data\n",
    "school_w_address = good_schools_df.loc[(~ good_schools_df['lat'].isnull())]\n",
    "\n",
    "fig = Figure(width=600, height=400)\n",
    "\n",
    "# Create a map object and center it to the avarage coordinates to m\n",
    "m = folium.Map(location=school_w_address[[\"lat\", \"lon\"]].mean().to_list(), zoom_start=11, width='100%', height='100%')\n",
    "\n",
    "# if the points are too close to each other, cluster them, create a cluster overlay with MarkerCluster, add to m\n",
    "marker_cluster = MarkerCluster().add_to(m)\n",
    "\n",
    "# draw the markers and assign popup and hover texts\n",
    "# add the markers the the cluster layers so that they are automatically clustered\n",
    "for i,r in school_w_address.iterrows():\n",
    "    location = (r[\"lat\"], r[\"lon\"])\n",
    "    concat_tooltip = str(r['school_name'])+ \" \" + str(r['school_rating'])\n",
    "    folium.Marker(location=location,\n",
    "                  popup = r['school_name'],\n",
    "                  tooltip=concat_tooltip) \\\n",
    "     .add_to(m)               \n",
    "    #.add_to(marker_cluster)\n",
    "# display the map\n",
    "#m\n",
    "fig.add_child(m)"
   ]
  },
  {
   "cell_type": "code",
   "execution_count": null,
   "metadata": {},
   "outputs": [],
   "source": [
    "# Drop columns and order\n",
    "aux = good_schools_df.drop(columns=['altitude','school_type','school_url','Pacific Islander','Native American','Two or more races','Unspecified','ratio_bins','pre_k_school', 'elementary_school', 'middle_school', 'high_school'])\n",
    "aux.sort_values(by=['school_rating','school_total_students','Math','Science','English'], ascending=[False, True, False, False, False, ])"
   ]
  }
 ],
 "metadata": {
  "kernelspec": {
   "display_name": "base",
   "language": "python",
   "name": "python3"
  },
  "language_info": {
   "codemirror_mode": {
    "name": "ipython",
    "version": 3
   },
   "file_extension": ".py",
   "mimetype": "text/x-python",
   "name": "python",
   "nbconvert_exporter": "python",
   "pygments_lexer": "ipython3",
   "version": "3.9.15 (main, Nov 24 2022, 08:29:02) \n[Clang 14.0.6 ]"
  },
  "orig_nbformat": 4,
  "vscode": {
   "interpreter": {
    "hash": "d3adbfbe91039a419937f4372fe3c9372de1d813c45d2145f24a226933280580"
   }
  }
 },
 "nbformat": 4,
 "nbformat_minor": 2
}
